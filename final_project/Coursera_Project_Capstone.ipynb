{
  "nbformat": 4,
  "nbformat_minor": 0,
  "metadata": {
    "colab": {
      "name": "Coursera Project Capstone.ipynb",
      "provenance": [],
      "collapsed_sections": []
    },
    "kernelspec": {
      "name": "python3",
      "display_name": "Python 3"
    },
    "widgets": {
      "application/vnd.jupyter.widget-state+json": {
        "337b860621784ef68278772cc7794b98": {
          "model_module": "@jupyter-widgets/controls",
          "model_name": "IntProgressModel",
          "state": {
            "_view_name": "ProgressView",
            "style": "IPY_MODEL_f866e11dc640436eb2d1f548ac0c1a46",
            "_dom_classes": [],
            "description": "",
            "_model_name": "IntProgressModel",
            "bar_style": "",
            "max": 27,
            "_view_module": "@jupyter-widgets/controls",
            "_model_module_version": "1.5.0",
            "value": 27,
            "_view_count": null,
            "_view_module_version": "1.5.0",
            "orientation": "horizontal",
            "min": 0,
            "description_tooltip": null,
            "_model_module": "@jupyter-widgets/controls",
            "layout": "IPY_MODEL_54c1b9b8d5554defbfc408a6cd1c1b1c"
          }
        },
        "f866e11dc640436eb2d1f548ac0c1a46": {
          "model_module": "@jupyter-widgets/controls",
          "model_name": "ProgressStyleModel",
          "state": {
            "_view_name": "StyleView",
            "_model_name": "ProgressStyleModel",
            "description_width": "",
            "_view_module": "@jupyter-widgets/base",
            "_model_module_version": "1.5.0",
            "_view_count": null,
            "_view_module_version": "1.2.0",
            "bar_color": null,
            "_model_module": "@jupyter-widgets/controls"
          }
        },
        "54c1b9b8d5554defbfc408a6cd1c1b1c": {
          "model_module": "@jupyter-widgets/base",
          "model_name": "LayoutModel",
          "state": {
            "_view_name": "LayoutView",
            "grid_template_rows": null,
            "right": null,
            "justify_content": null,
            "_view_module": "@jupyter-widgets/base",
            "overflow": null,
            "_model_module_version": "1.2.0",
            "_view_count": null,
            "flex_flow": null,
            "width": null,
            "min_width": null,
            "border": null,
            "align_items": null,
            "bottom": null,
            "_model_module": "@jupyter-widgets/base",
            "top": null,
            "grid_column": null,
            "overflow_y": null,
            "overflow_x": null,
            "grid_auto_flow": null,
            "grid_area": null,
            "grid_template_columns": null,
            "flex": null,
            "_model_name": "LayoutModel",
            "justify_items": null,
            "grid_row": null,
            "max_height": null,
            "align_content": null,
            "visibility": null,
            "align_self": null,
            "height": null,
            "min_height": null,
            "padding": null,
            "grid_auto_rows": null,
            "grid_gap": null,
            "max_width": null,
            "order": null,
            "_view_module_version": "1.2.0",
            "grid_template_areas": null,
            "object_position": null,
            "object_fit": null,
            "grid_auto_columns": null,
            "margin": null,
            "display": null,
            "left": null
          }
        }
      }
    }
  },
  "cells": [
    {
      "cell_type": "markdown",
      "metadata": {
        "id": "SaJoyFeNDqrS",
        "colab_type": "text"
      },
      "source": [
        "# Capstone Project - The Battle of the Neighborhoods (Week 2)\n",
        "\n",
        "### Analysis of Brazil's major cities, differences and similarities "
      ]
    },
    {
      "cell_type": "markdown",
      "metadata": {
        "id": "gFXSZvmJD9Ho",
        "colab_type": "text"
      },
      "source": [
        "## Table of contents\n",
        "* [Introduction: Business Problem](#introduction)\n",
        "* [Data](#data)\n",
        "* [Methodology](#methodology)\n",
        "* [Analysis](#analysis)\n",
        "* [Results and Discussion](#results)\n",
        "* [Conclusion](#conclusion)\n"
      ]
    },
    {
      "cell_type": "markdown",
      "metadata": {
        "id": "FUeDg_OcEIHz",
        "colab_type": "text"
      },
      "source": [
        "## Introduction: Business Problem <a name=\"introduction\"></a>"
      ]
    },
    {
      "cell_type": "markdown",
      "metadata": {
        "id": "8urk79EsEKfv",
        "colab_type": "text"
      },
      "source": [
        "Brazil is 5th biggest country in the world, and with a population of 210 million people is the 6th largest population. The large size and population are reflected in numerous big cities that have different culture, nature and people. This can be a big challenge for companies when deciding which city, they can growth/expand. It's easy to understand that if a company is successful in one specific city, it may have more chances to profit in a similar city rather than a very different one. Therefore, this project aims to analyze Brazil's capital cities and find which ones share similarities, forming city clusters."
      ]
    },
    {
      "cell_type": "markdown",
      "metadata": {
        "id": "DOYBUwOQGct4",
        "colab_type": "text"
      },
      "source": [
        "## Data <a name=\"data\"></a>"
      ]
    },
    {
      "cell_type": "markdown",
      "metadata": {
        "id": "YMOzM0SBGfGe",
        "colab_type": "text"
      },
      "source": [
        "For this analysis we need the following data:\n",
        "\n",
        "Data related to geographic and basic information of the target cities:\n",
        "1.   List of Brazil's Capital Cities names\n",
        "2.   List of geospatial coordinates (latitude, longitude) of Brazil's Capital Cities\n",
        "\n",
        "Data that will provide us information of each city, making possible the analysis and clusterization:\n",
        "3.   For that, we will use the Foursquare API to get the 1000 most popular places in a radius of 10km.\n",
        "\n",
        "\n"
      ]
    },
    {
      "cell_type": "markdown",
      "metadata": {
        "id": "YaneeIoNIOAg",
        "colab_type": "text"
      },
      "source": [
        "Install Requirements"
      ]
    },
    {
      "cell_type": "code",
      "metadata": {
        "id": "w2twzJD8IMYp",
        "colab_type": "code",
        "outputId": "851060c2-8616-48c8-e513-104d21a1ea66",
        "colab": {
          "base_uri": "https://localhost:8080/",
          "height": 428
        }
      },
      "source": [
        "# We will need folium to visualize maps\n",
        "!pip install folium==0.5.0"
      ],
      "execution_count": 1,
      "outputs": [
        {
          "output_type": "stream",
          "text": [
            "Collecting folium==0.5.0\n",
            "\u001b[?25l  Downloading https://files.pythonhosted.org/packages/07/37/456fb3699ed23caa0011f8b90d9cad94445eddc656b601e6268090de35f5/folium-0.5.0.tar.gz (79kB)\n",
            "\r\u001b[K     |████▏                           | 10kB 18.4MB/s eta 0:00:01\r\u001b[K     |████████▎                       | 20kB 1.8MB/s eta 0:00:01\r\u001b[K     |████████████▍                   | 30kB 2.7MB/s eta 0:00:01\r\u001b[K     |████████████████▌               | 40kB 1.8MB/s eta 0:00:01\r\u001b[K     |████████████████████▊           | 51kB 2.2MB/s eta 0:00:01\r\u001b[K     |████████████████████████▉       | 61kB 2.6MB/s eta 0:00:01\r\u001b[K     |█████████████████████████████   | 71kB 2.1MB/s eta 0:00:01\r\u001b[K     |████████████████████████████████| 81kB 1.8MB/s \n",
            "\u001b[?25hRequirement already satisfied: branca in /usr/local/lib/python3.6/dist-packages (from folium==0.5.0) (0.3.1)\n",
            "Requirement already satisfied: jinja2 in /usr/local/lib/python3.6/dist-packages (from folium==0.5.0) (2.10.3)\n",
            "Requirement already satisfied: requests in /usr/local/lib/python3.6/dist-packages (from folium==0.5.0) (2.21.0)\n",
            "Requirement already satisfied: six in /usr/local/lib/python3.6/dist-packages (from folium==0.5.0) (1.12.0)\n",
            "Requirement already satisfied: MarkupSafe>=0.23 in /usr/local/lib/python3.6/dist-packages (from jinja2->folium==0.5.0) (1.1.1)\n",
            "Requirement already satisfied: urllib3<1.25,>=1.21.1 in /usr/local/lib/python3.6/dist-packages (from requests->folium==0.5.0) (1.24.3)\n",
            "Requirement already satisfied: chardet<3.1.0,>=3.0.2 in /usr/local/lib/python3.6/dist-packages (from requests->folium==0.5.0) (3.0.4)\n",
            "Requirement already satisfied: idna<2.9,>=2.5 in /usr/local/lib/python3.6/dist-packages (from requests->folium==0.5.0) (2.8)\n",
            "Requirement already satisfied: certifi>=2017.4.17 in /usr/local/lib/python3.6/dist-packages (from requests->folium==0.5.0) (2019.11.28)\n",
            "Building wheels for collected packages: folium\n",
            "  Building wheel for folium (setup.py) ... \u001b[?25l\u001b[?25hdone\n",
            "  Created wheel for folium: filename=folium-0.5.0-cp36-none-any.whl size=76240 sha256=157736b7224d1d60628d5c3949a24c6140736cc15444cff6ef02e3de730016f6\n",
            "  Stored in directory: /root/.cache/pip/wheels/f8/98/ff/954791afc47740d554f0d9e5885fa09dd60c2265d42578e665\n",
            "Successfully built folium\n",
            "\u001b[31mERROR: datascience 0.10.6 has requirement folium==0.2.1, but you'll have folium 0.5.0 which is incompatible.\u001b[0m\n",
            "Installing collected packages: folium\n",
            "  Found existing installation: folium 0.8.3\n",
            "    Uninstalling folium-0.8.3:\n",
            "      Successfully uninstalled folium-0.8.3\n",
            "Successfully installed folium-0.5.0\n"
          ],
          "name": "stdout"
        }
      ]
    },
    {
      "cell_type": "markdown",
      "metadata": {
        "id": "kTZK0je-ISFF",
        "colab_type": "text"
      },
      "source": [
        "Import relevant packages"
      ]
    },
    {
      "cell_type": "code",
      "metadata": {
        "id": "Od1Z6HaAIMyj",
        "colab_type": "code",
        "colab": {}
      },
      "source": [
        "import folium\n",
        "import pandas as pd\n",
        "import numpy as np\n",
        "import requests\n",
        "from ipywidgets import IntProgress\n",
        "from IPython.display import display, HTML\n",
        "from sklearn.cluster import KMeans\n",
        "from sklearn.metrics import silhouette_score"
      ],
      "execution_count": 0,
      "outputs": []
    },
    {
      "cell_type": "markdown",
      "metadata": {
        "id": "oDV3-BMfHmPB",
        "colab_type": "text"
      },
      "source": [
        "## Gather geospatial information of each Brazil's capital cities\n",
        "\n",
        "Below we have a list with each capital city `capitals` and the geospatial information of them `capitals_coord`"
      ]
    },
    {
      "cell_type": "code",
      "metadata": {
        "id": "JvP_YCy_XD3r",
        "colab_type": "code",
        "colab": {}
      },
      "source": [
        "capitals = ['Porto Velho', 'Manaus', 'Rio Branco', 'Campo Grande', 'Macapa', 'Brasilia', 'Boa Vista', 'Cuiaba', 'Palmas', 'Teresina', 'Sao Paulo', 'Rio de Janeiro', 'Belem', 'Sao Luis', 'Goiania', 'Salvador', 'Maceio', 'Porto Alegre', 'Curitiba', 'Florianopolis', 'Belo Horizonte', 'Fortaleza', 'Recife', 'Joao Pessoa', 'Acaraju', 'Natal', 'Vitoria']"
      ],
      "execution_count": 0,
      "outputs": []
    },
    {
      "cell_type": "code",
      "metadata": {
        "id": "pgZFV0T5akCh",
        "colab_type": "code",
        "colab": {}
      },
      "source": [
        "capitals_coord = [[-8.765641, -63.875509], [-3.120778, -60.021362], [-9.971815, -67.825691], [-20.467168, -54.619796], [0.033906, -51.066463], [-15.807910, -47.959944], [2.823485, -60.679053], [-15.593696, -56.098124], [-10.246682, -48.324712], [-5.086539, -42.800808], [-23.552193, -46.639079], [-22.908964, -43.179471], [-1.455427, -48.483116], [-2.529956, -44.252316], [-16.690268, -49.265598], [-12.976777, -38.507956], [-9.650390, -35.710339], [-30.031338, -51.207043], [-25.427976, -49.260580], [-27.593404, -48.548334], [-19.915741, -43.941747], [-3.734547, -38.528010], [-8.052249, -34.889198], [-7.119057, -34.838982], [-10.934840, -37.063968], [-5.789384, -35.204150], [-20.294332, -40.296230]]"
      ],
      "execution_count": 0,
      "outputs": []
    },
    {
      "cell_type": "markdown",
      "metadata": {
        "id": "uX0RoCGvH_4c",
        "colab_type": "text"
      },
      "source": [
        "Now we have to transform that data into a DataFrame with the columns city, latitude and longitude."
      ]
    },
    {
      "cell_type": "code",
      "metadata": {
        "id": "lvWjK2jDarKI",
        "colab_type": "code",
        "colab": {}
      },
      "source": [
        "df_cap = pd.DataFrame({'city': capitals, 'latitude': [x[0] for x in capitals_coord], 'longitude': [x[1] for x in capitals_coord]})"
      ],
      "execution_count": 0,
      "outputs": []
    },
    {
      "cell_type": "code",
      "metadata": {
        "id": "lzFdTU6ubCCB",
        "colab_type": "code",
        "outputId": "b97a50db-e4cc-4eae-ec5f-8b2f441f2c90",
        "colab": {
          "base_uri": "https://localhost:8080/",
          "height": 204
        }
      },
      "source": [
        "df_cap.head()"
      ],
      "execution_count": 6,
      "outputs": [
        {
          "output_type": "execute_result",
          "data": {
            "text/html": [
              "<div>\n",
              "<style scoped>\n",
              "    .dataframe tbody tr th:only-of-type {\n",
              "        vertical-align: middle;\n",
              "    }\n",
              "\n",
              "    .dataframe tbody tr th {\n",
              "        vertical-align: top;\n",
              "    }\n",
              "\n",
              "    .dataframe thead th {\n",
              "        text-align: right;\n",
              "    }\n",
              "</style>\n",
              "<table border=\"1\" class=\"dataframe\">\n",
              "  <thead>\n",
              "    <tr style=\"text-align: right;\">\n",
              "      <th></th>\n",
              "      <th>city</th>\n",
              "      <th>latitude</th>\n",
              "      <th>longitude</th>\n",
              "    </tr>\n",
              "  </thead>\n",
              "  <tbody>\n",
              "    <tr>\n",
              "      <th>0</th>\n",
              "      <td>Porto Velho</td>\n",
              "      <td>-8.765641</td>\n",
              "      <td>-63.875509</td>\n",
              "    </tr>\n",
              "    <tr>\n",
              "      <th>1</th>\n",
              "      <td>Manaus</td>\n",
              "      <td>-3.120778</td>\n",
              "      <td>-60.021362</td>\n",
              "    </tr>\n",
              "    <tr>\n",
              "      <th>2</th>\n",
              "      <td>Rio Branco</td>\n",
              "      <td>-9.971815</td>\n",
              "      <td>-67.825691</td>\n",
              "    </tr>\n",
              "    <tr>\n",
              "      <th>3</th>\n",
              "      <td>Campo Grande</td>\n",
              "      <td>-20.467168</td>\n",
              "      <td>-54.619796</td>\n",
              "    </tr>\n",
              "    <tr>\n",
              "      <th>4</th>\n",
              "      <td>Macapa</td>\n",
              "      <td>0.033906</td>\n",
              "      <td>-51.066463</td>\n",
              "    </tr>\n",
              "  </tbody>\n",
              "</table>\n",
              "</div>"
            ],
            "text/plain": [
              "           city   latitude  longitude\n",
              "0   Porto Velho  -8.765641 -63.875509\n",
              "1        Manaus  -3.120778 -60.021362\n",
              "2    Rio Branco  -9.971815 -67.825691\n",
              "3  Campo Grande -20.467168 -54.619796\n",
              "4        Macapa   0.033906 -51.066463"
            ]
          },
          "metadata": {
            "tags": []
          },
          "execution_count": 6
        }
      ]
    },
    {
      "cell_type": "markdown",
      "metadata": {
        "id": "KqoIgtP5JCAw",
        "colab_type": "text"
      },
      "source": [
        "Create a function to view our analyzed cities"
      ]
    },
    {
      "cell_type": "code",
      "metadata": {
        "id": "V97B-uSybJtN",
        "colab_type": "code",
        "colab": {}
      },
      "source": [
        "def create_map(coordinates_center, zoom, df_cities):\n",
        "  map_newyork = folium.Map(location=coordinates_center, zoom_start=zoom)\n",
        "  for lat, lng, city in zip(df_cities['latitude'], df_cities['longitude'], df_cities['city']):\n",
        "      label = city\n",
        "      label = folium.Popup(label, parse_html=True)\n",
        "      folium.CircleMarker(\n",
        "          [lat, lng],\n",
        "          radius=5,\n",
        "          popup=label,\n",
        "          color='blue',\n",
        "          fill=True,\n",
        "          fill_color='#3186cc',\n",
        "          fill_opacity=0.7,\n",
        "          parse_html=False).add_to(map_newyork)  \n",
        "      \n",
        "  return map_newyork"
      ],
      "execution_count": 0,
      "outputs": []
    },
    {
      "cell_type": "code",
      "metadata": {
        "id": "KBrVkbYcIxab",
        "colab_type": "code",
        "outputId": "ac1579d1-cf37-46e3-cb24-a1185f915be8",
        "colab": {
          "base_uri": "https://localhost:8080/",
          "height": 703
        }
      },
      "source": [
        "create_map([-15.724072, -49.437987], 4, df_cap)"
      ],
      "execution_count": 8,
      "outputs": [
        {
          "output_type": "execute_result",
          "data": {
            "text/html": [
              "<div style=\"width:100%;\"><div style=\"position:relative;width:100%;height:0;padding-bottom:60%;\"><iframe src=\"data:text/html;charset=utf-8;base64,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\" style=\"position:absolute;width:100%;height:100%;left:0;top:0;border:none !important;\" allowfullscreen webkitallowfullscreen mozallowfullscreen></iframe></div></div>"
            ],
            "text/plain": [
              "<folium.folium.Map at 0x7fdd14013a20>"
            ]
          },
          "metadata": {
            "tags": []
          },
          "execution_count": 8
        }
      ]
    },
    {
      "cell_type": "code",
      "metadata": {
        "id": "gb1JDVSnbwCr",
        "colab_type": "code",
        "colab": {}
      },
      "source": [
        "CLIENT_ID = 'VHYDSZEFDRHN1FRUM5VZ1MNES0ZNOZ5GMZ32DRF4V0IDLNRY'\n",
        "CLIENT_SECRET = '01SUHJROHLA25NZYFNKZTVO1HTH4RCSLFZEYHLNEKBUB3TP0'\n",
        "VERSION = '20180605'"
      ],
      "execution_count": 0,
      "outputs": []
    },
    {
      "cell_type": "markdown",
      "metadata": {
        "id": "gYcg2BSPIR8e",
        "colab_type": "text"
      },
      "source": [
        "## Gather city popular places data"
      ]
    },
    {
      "cell_type": "markdown",
      "metadata": {
        "id": "UqAek1oELu1W",
        "colab_type": "text"
      },
      "source": [
        "Now, the function below will gather the 1 000 most popular venues in a radius of 10 km (10 000 meters) for each city. This function uses the Foursquare API and `explore` endpoint."
      ]
    },
    {
      "cell_type": "code",
      "metadata": {
        "id": "0zu-1uY6cYi8",
        "colab_type": "code",
        "colab": {}
      },
      "source": [
        "def getPopularVenues(names, latitudes, longitudes, radius=10000, LIMIT=1000):\n",
        "\n",
        "    # Get the number of places to be evaluated\n",
        "    max_count = len(names)\n",
        "    # instantiate the progress bar\n",
        "    f = IntProgress(min=0, max=max_count) \n",
        "    # Display the progress bar\n",
        "    display(f)\n",
        "    # Start counter\n",
        "    count = 0  \n",
        "    \n",
        "    venues_list=[]\n",
        "    for name, lat, lng in zip(names, latitudes, longitudes):\n",
        "        print(f'Getting data from: {name}')\n",
        "            \n",
        "        url = f'https://api.foursquare.com/v2/venues/explore?&client_id={CLIENT_ID}&client_secret={CLIENT_SECRET}&v={VERSION}&ll={lat},{lng}&radius={radius}&limit={LIMIT}'\n",
        "\n",
        "        results = requests.get(url).json()[\"response\"]['groups'][0]['items']\n",
        "        \n",
        "        venues_list.append([(\n",
        "            name, \n",
        "            lat, \n",
        "            lng, \n",
        "            v['venue']['name'], \n",
        "            v['venue']['location']['lat'], \n",
        "            v['venue']['location']['lng'],  \n",
        "            v['venue']['categories'][0]['name']) for v in results])\n",
        "        \n",
        "        f.value += 1 # signal to increment the progress bar\n",
        "        count += 1\n",
        "\n",
        "\n",
        "    nearby_venues = pd.DataFrame([item for venue_list in venues_list for item in venue_list])\n",
        "    nearby_venues.columns = ['city', \n",
        "                  'city latitude', \n",
        "                  'city longitude', \n",
        "                  'venue', \n",
        "                  'venue latitude', \n",
        "                  'venue longitude', \n",
        "                  'venue category']\n",
        "\n",
        "\n",
        "    return(nearby_venues)"
      ],
      "execution_count": 0,
      "outputs": []
    },
    {
      "cell_type": "code",
      "metadata": {
        "id": "48I5W013dm6S",
        "colab_type": "code",
        "outputId": "c023ec11-dc56-4d31-8960-64dc9364df65",
        "colab": {
          "base_uri": "https://localhost:8080/",
          "height": 508,
          "referenced_widgets": [
            "337b860621784ef68278772cc7794b98",
            "f866e11dc640436eb2d1f548ac0c1a46",
            "54c1b9b8d5554defbfc408a6cd1c1b1c"
          ]
        }
      },
      "source": [
        "df_cities = getPopularVenues(df_cap['city'], df_cap['latitude'], df_cap['longitude'])"
      ],
      "execution_count": 11,
      "outputs": [
        {
          "output_type": "display_data",
          "data": {
            "application/vnd.jupyter.widget-view+json": {
              "model_id": "337b860621784ef68278772cc7794b98",
              "version_minor": 0,
              "version_major": 2
            },
            "text/plain": [
              "IntProgress(value=0, max=27)"
            ]
          },
          "metadata": {
            "tags": []
          }
        },
        {
          "output_type": "stream",
          "text": [
            "Getting data from: Porto Velho\n",
            "Getting data from: Manaus\n",
            "Getting data from: Rio Branco\n",
            "Getting data from: Campo Grande\n",
            "Getting data from: Macapa\n",
            "Getting data from: Brasilia\n",
            "Getting data from: Boa Vista\n",
            "Getting data from: Cuiaba\n",
            "Getting data from: Palmas\n",
            "Getting data from: Teresina\n",
            "Getting data from: Sao Paulo\n",
            "Getting data from: Rio de Janeiro\n",
            "Getting data from: Belem\n",
            "Getting data from: Sao Luis\n",
            "Getting data from: Goiania\n",
            "Getting data from: Salvador\n",
            "Getting data from: Maceio\n",
            "Getting data from: Porto Alegre\n",
            "Getting data from: Curitiba\n",
            "Getting data from: Florianopolis\n",
            "Getting data from: Belo Horizonte\n",
            "Getting data from: Fortaleza\n",
            "Getting data from: Recife\n",
            "Getting data from: Joao Pessoa\n",
            "Getting data from: Acaraju\n",
            "Getting data from: Natal\n",
            "Getting data from: Vitoria\n"
          ],
          "name": "stdout"
        }
      ]
    },
    {
      "cell_type": "markdown",
      "metadata": {
        "id": "P4yKVL3QL8QZ",
        "colab_type": "text"
      },
      "source": [
        "Now, we can analyze the overall of each city"
      ]
    },
    {
      "cell_type": "code",
      "metadata": {
        "id": "TsNmy55xd1Zy",
        "colab_type": "code",
        "outputId": "10d241bf-55ad-4d45-a5f6-836243d05d55",
        "colab": {
          "base_uri": "https://localhost:8080/",
          "height": 221
        }
      },
      "source": [
        "df_cities['venue category'].value_counts()"
      ],
      "execution_count": 12,
      "outputs": [
        {
          "output_type": "execute_result",
          "data": {
            "text/plain": [
              "Brazilian Restaurant    132\n",
              "Ice Cream Shop          108\n",
              "Restaurant               97\n",
              "Gym / Fitness Center     97\n",
              "Bar                      93\n",
              "                       ... \n",
              "Smoke Shop                1\n",
              "Organic Grocery           1\n",
              "Motel                     1\n",
              "Theme Restaurant          1\n",
              "Cheese Shop               1\n",
              "Name: venue category, Length: 254, dtype: int64"
            ]
          },
          "metadata": {
            "tags": []
          },
          "execution_count": 12
        }
      ]
    },
    {
      "cell_type": "markdown",
      "metadata": {
        "id": "1jp5li5hIw38",
        "colab_type": "text"
      },
      "source": [
        "## Methodology <a name=\"methodology\"></a>"
      ]
    },
    {
      "cell_type": "markdown",
      "metadata": {
        "id": "uYhpUn8dIyFC",
        "colab_type": "text"
      },
      "source": [
        "With city popular venue data, we will be able to get similar cities by using clusterization methodologies. For that, we will need first to convert the categorical information of `venue` to something numeric, that can be mathematically calculated. This will be done by using the one-hot encoding methodology, that will create a column for each venue type and assign, for each city, the number of times this venue type was found. \n",
        "\n",
        "Clusterization algorithms can have the performance decreased if non normalized data is used (because these algorithms are based on distance metrics, therefore, features with large numbers can have a big effect on cluster performance). To solve that, we will normalize each city data (each column in a row) by the total number of venues (1 000), this will give us a maximum score of 1 and minimum 0.\n",
        "\n",
        "Finally, we will be able to use that data into a K-Means algorithm that will be able to find similar cities. However, the number of clusters must be (manually) defined. Therefore, we can proceed in two ways: first, using an arbitrary number of clusers (we would not have any clue if the clusterization is indeed good) or using a more analytical approach. The analytical approach will use a clusterization metric score (called silhouette) to decide which number of clusters will provide us the best clusterization result. In our case, we will use the analytical approach."
      ]
    },
    {
      "cell_type": "markdown",
      "metadata": {
        "id": "zz1DaSjlOJgM",
        "colab_type": "text"
      },
      "source": [
        "## Analysis <a name=\"analysis\"></a>"
      ]
    },
    {
      "cell_type": "markdown",
      "metadata": {
        "id": "fJyWRp1zMBAu",
        "colab_type": "text"
      },
      "source": [
        "As the dataset is organized in categories, we must one-hot encode the categorical values. Additionally, we normalize each city result to reflect the proportion of each popular venue per city."
      ]
    },
    {
      "cell_type": "code",
      "metadata": {
        "id": "rVEeAhe4eJER",
        "colab_type": "code",
        "colab": {}
      },
      "source": [
        "row_list = []\n",
        "for city in df_cap['city'].unique():\n",
        "  row_numeric_data = []\n",
        "  for category in df_cities['venue category'].unique():\n",
        "    vanue_category_data = df_cities[df_cities['city'] == city]['venue category']\n",
        "    row_numeric_data.append(vanue_category_data[vanue_category_data == category].shape[0])\n",
        "    if sum(row_numeric_data) > 0:\n",
        "      row_normalized_data = [numberCategory/sum(row_numeric_data) for numberCategory in row_numeric_data]\n",
        "    else:\n",
        "      row_normalized_data = row_numeric_data\n",
        "  row_list.append(dict(zip(['city']+list(df_cities['venue category'].unique()), [city]+row_normalized_data)))"
      ],
      "execution_count": 0,
      "outputs": []
    },
    {
      "cell_type": "markdown",
      "metadata": {
        "id": "92V8LCoMNWrv",
        "colab_type": "text"
      },
      "source": [
        "Convert the raw one-hot encoded (and normalized) data to a DataFrame"
      ]
    },
    {
      "cell_type": "code",
      "metadata": {
        "id": "w0xvgCi3fDUo",
        "colab_type": "code",
        "colab": {}
      },
      "source": [
        "df_norm_city = pd.DataFrame(row_list)"
      ],
      "execution_count": 0,
      "outputs": []
    },
    {
      "cell_type": "code",
      "metadata": {
        "id": "RVCvHxgkfLLw",
        "colab_type": "code",
        "outputId": "d6c437af-87e1-4d08-e730-98d94696a31a",
        "colab": {
          "base_uri": "https://localhost:8080/",
          "height": 355
        }
      },
      "source": [
        "df_norm_city.head()"
      ],
      "execution_count": 15,
      "outputs": [
        {
          "output_type": "execute_result",
          "data": {
            "text/html": [
              "<div>\n",
              "<style scoped>\n",
              "    .dataframe tbody tr th:only-of-type {\n",
              "        vertical-align: middle;\n",
              "    }\n",
              "\n",
              "    .dataframe tbody tr th {\n",
              "        vertical-align: top;\n",
              "    }\n",
              "\n",
              "    .dataframe thead th {\n",
              "        text-align: right;\n",
              "    }\n",
              "</style>\n",
              "<table border=\"1\" class=\"dataframe\">\n",
              "  <thead>\n",
              "    <tr style=\"text-align: right;\">\n",
              "      <th></th>\n",
              "      <th>city</th>\n",
              "      <th>Fish &amp; Chips Shop</th>\n",
              "      <th>Gym</th>\n",
              "      <th>Bar</th>\n",
              "      <th>Gift Shop</th>\n",
              "      <th>Snack Place</th>\n",
              "      <th>Pub</th>\n",
              "      <th>Candy Store</th>\n",
              "      <th>Martial Arts Dojo</th>\n",
              "      <th>Brazilian Restaurant</th>\n",
              "      <th>BBQ Joint</th>\n",
              "      <th>Coffee Shop</th>\n",
              "      <th>Beer Store</th>\n",
              "      <th>Tea Room</th>\n",
              "      <th>Hotel</th>\n",
              "      <th>Convenience Store</th>\n",
              "      <th>Shoe Store</th>\n",
              "      <th>Bookstore</th>\n",
              "      <th>Northern Brazilian Restaurant</th>\n",
              "      <th>Restaurant</th>\n",
              "      <th>Middle Eastern Restaurant</th>\n",
              "      <th>Creperie</th>\n",
              "      <th>Sandwich Place</th>\n",
              "      <th>Japanese Restaurant</th>\n",
              "      <th>Gym / Fitness Center</th>\n",
              "      <th>Nightclub</th>\n",
              "      <th>Beer Garden</th>\n",
              "      <th>Shopping Mall</th>\n",
              "      <th>Bistro</th>\n",
              "      <th>Chinese Restaurant</th>\n",
              "      <th>Massage Studio</th>\n",
              "      <th>Ice Cream Shop</th>\n",
              "      <th>Seafood Restaurant</th>\n",
              "      <th>Soccer Field</th>\n",
              "      <th>Burger Joint</th>\n",
              "      <th>Italian Restaurant</th>\n",
              "      <th>Deli / Bodega</th>\n",
              "      <th>Gourmet Shop</th>\n",
              "      <th>Food Truck</th>\n",
              "      <th>Pharmacy</th>\n",
              "      <th>...</th>\n",
              "      <th>Lake</th>\n",
              "      <th>Jazz Club</th>\n",
              "      <th>Baiano Restaurant</th>\n",
              "      <th>Bay</th>\n",
              "      <th>Arcade</th>\n",
              "      <th>Convention Center</th>\n",
              "      <th>Lighthouse</th>\n",
              "      <th>Resort</th>\n",
              "      <th>Surf Spot</th>\n",
              "      <th>Track Stadium</th>\n",
              "      <th>Garden Center</th>\n",
              "      <th>Thai Restaurant</th>\n",
              "      <th>Street Fair</th>\n",
              "      <th>College Bookstore</th>\n",
              "      <th>Photography Lab</th>\n",
              "      <th>Poke Place</th>\n",
              "      <th>Supplement Shop</th>\n",
              "      <th>Taiwanese Restaurant</th>\n",
              "      <th>Southern Brazilian Restaurant</th>\n",
              "      <th>Empada House</th>\n",
              "      <th>German Restaurant</th>\n",
              "      <th>Library</th>\n",
              "      <th>Smoke Shop</th>\n",
              "      <th>Dog Run</th>\n",
              "      <th>Botanical Garden</th>\n",
              "      <th>Antique Shop</th>\n",
              "      <th>Coworking Space</th>\n",
              "      <th>Playground</th>\n",
              "      <th>Women's Store</th>\n",
              "      <th>Bed &amp; Breakfast</th>\n",
              "      <th>Paper / Office Supplies Store</th>\n",
              "      <th>Sports Bar</th>\n",
              "      <th>Tennis Court</th>\n",
              "      <th>Airport</th>\n",
              "      <th>Drugstore</th>\n",
              "      <th>Public Art</th>\n",
              "      <th>IT Services</th>\n",
              "      <th>Motorcycle Shop</th>\n",
              "      <th>Aquarium</th>\n",
              "      <th>Beach Bar</th>\n",
              "    </tr>\n",
              "  </thead>\n",
              "  <tbody>\n",
              "    <tr>\n",
              "      <th>0</th>\n",
              "      <td>Porto Velho</td>\n",
              "      <td>0.01</td>\n",
              "      <td>0.06</td>\n",
              "      <td>0.08</td>\n",
              "      <td>0.01</td>\n",
              "      <td>0.03</td>\n",
              "      <td>0.01</td>\n",
              "      <td>0.01</td>\n",
              "      <td>0.01</td>\n",
              "      <td>0.11</td>\n",
              "      <td>0.01</td>\n",
              "      <td>0.03</td>\n",
              "      <td>0.01</td>\n",
              "      <td>0.01</td>\n",
              "      <td>0.04</td>\n",
              "      <td>0.03</td>\n",
              "      <td>0.01</td>\n",
              "      <td>0.02</td>\n",
              "      <td>0.01</td>\n",
              "      <td>0.05</td>\n",
              "      <td>0.03</td>\n",
              "      <td>0.01</td>\n",
              "      <td>0.02</td>\n",
              "      <td>0.02</td>\n",
              "      <td>0.01</td>\n",
              "      <td>0.01</td>\n",
              "      <td>0.03</td>\n",
              "      <td>0.01</td>\n",
              "      <td>0.01</td>\n",
              "      <td>0.01</td>\n",
              "      <td>0.01</td>\n",
              "      <td>0.01</td>\n",
              "      <td>0.01</td>\n",
              "      <td>0.01</td>\n",
              "      <td>0.01</td>\n",
              "      <td>0.03</td>\n",
              "      <td>0.02</td>\n",
              "      <td>0.01</td>\n",
              "      <td>0.01</td>\n",
              "      <td>0.02</td>\n",
              "      <td>...</td>\n",
              "      <td>0.0</td>\n",
              "      <td>0.0</td>\n",
              "      <td>0.0</td>\n",
              "      <td>0.0</td>\n",
              "      <td>0.0</td>\n",
              "      <td>0.0</td>\n",
              "      <td>0.0</td>\n",
              "      <td>0.0</td>\n",
              "      <td>0.0</td>\n",
              "      <td>0.0</td>\n",
              "      <td>0.0</td>\n",
              "      <td>0.0</td>\n",
              "      <td>0.0</td>\n",
              "      <td>0.0</td>\n",
              "      <td>0.0</td>\n",
              "      <td>0.0</td>\n",
              "      <td>0.0</td>\n",
              "      <td>0.0</td>\n",
              "      <td>0.0</td>\n",
              "      <td>0.0</td>\n",
              "      <td>0.0</td>\n",
              "      <td>0.0</td>\n",
              "      <td>0.0</td>\n",
              "      <td>0.0</td>\n",
              "      <td>0.0</td>\n",
              "      <td>0.0</td>\n",
              "      <td>0.0</td>\n",
              "      <td>0.0</td>\n",
              "      <td>0.0</td>\n",
              "      <td>0.0</td>\n",
              "      <td>0.0</td>\n",
              "      <td>0.0</td>\n",
              "      <td>0.0</td>\n",
              "      <td>0.0</td>\n",
              "      <td>0.0</td>\n",
              "      <td>0.0</td>\n",
              "      <td>0.0</td>\n",
              "      <td>0.0</td>\n",
              "      <td>0.0</td>\n",
              "      <td>0.0</td>\n",
              "    </tr>\n",
              "    <tr>\n",
              "      <th>1</th>\n",
              "      <td>Manaus</td>\n",
              "      <td>0.01</td>\n",
              "      <td>0.01</td>\n",
              "      <td>0.03</td>\n",
              "      <td>0.00</td>\n",
              "      <td>0.01</td>\n",
              "      <td>0.00</td>\n",
              "      <td>0.01</td>\n",
              "      <td>0.00</td>\n",
              "      <td>0.06</td>\n",
              "      <td>0.05</td>\n",
              "      <td>0.01</td>\n",
              "      <td>0.01</td>\n",
              "      <td>0.00</td>\n",
              "      <td>0.02</td>\n",
              "      <td>0.00</td>\n",
              "      <td>0.01</td>\n",
              "      <td>0.02</td>\n",
              "      <td>0.02</td>\n",
              "      <td>0.05</td>\n",
              "      <td>0.00</td>\n",
              "      <td>0.01</td>\n",
              "      <td>0.00</td>\n",
              "      <td>0.03</td>\n",
              "      <td>0.05</td>\n",
              "      <td>0.00</td>\n",
              "      <td>0.00</td>\n",
              "      <td>0.01</td>\n",
              "      <td>0.02</td>\n",
              "      <td>0.00</td>\n",
              "      <td>0.00</td>\n",
              "      <td>0.02</td>\n",
              "      <td>0.02</td>\n",
              "      <td>0.00</td>\n",
              "      <td>0.01</td>\n",
              "      <td>0.00</td>\n",
              "      <td>0.00</td>\n",
              "      <td>0.00</td>\n",
              "      <td>0.02</td>\n",
              "      <td>0.01</td>\n",
              "      <td>...</td>\n",
              "      <td>0.0</td>\n",
              "      <td>0.0</td>\n",
              "      <td>0.0</td>\n",
              "      <td>0.0</td>\n",
              "      <td>0.0</td>\n",
              "      <td>0.0</td>\n",
              "      <td>0.0</td>\n",
              "      <td>0.0</td>\n",
              "      <td>0.0</td>\n",
              "      <td>0.0</td>\n",
              "      <td>0.0</td>\n",
              "      <td>0.0</td>\n",
              "      <td>0.0</td>\n",
              "      <td>0.0</td>\n",
              "      <td>0.0</td>\n",
              "      <td>0.0</td>\n",
              "      <td>0.0</td>\n",
              "      <td>0.0</td>\n",
              "      <td>0.0</td>\n",
              "      <td>0.0</td>\n",
              "      <td>0.0</td>\n",
              "      <td>0.0</td>\n",
              "      <td>0.0</td>\n",
              "      <td>0.0</td>\n",
              "      <td>0.0</td>\n",
              "      <td>0.0</td>\n",
              "      <td>0.0</td>\n",
              "      <td>0.0</td>\n",
              "      <td>0.0</td>\n",
              "      <td>0.0</td>\n",
              "      <td>0.0</td>\n",
              "      <td>0.0</td>\n",
              "      <td>0.0</td>\n",
              "      <td>0.0</td>\n",
              "      <td>0.0</td>\n",
              "      <td>0.0</td>\n",
              "      <td>0.0</td>\n",
              "      <td>0.0</td>\n",
              "      <td>0.0</td>\n",
              "      <td>0.0</td>\n",
              "    </tr>\n",
              "    <tr>\n",
              "      <th>2</th>\n",
              "      <td>Rio Branco</td>\n",
              "      <td>0.00</td>\n",
              "      <td>0.04</td>\n",
              "      <td>0.01</td>\n",
              "      <td>0.00</td>\n",
              "      <td>0.04</td>\n",
              "      <td>0.01</td>\n",
              "      <td>0.00</td>\n",
              "      <td>0.00</td>\n",
              "      <td>0.10</td>\n",
              "      <td>0.07</td>\n",
              "      <td>0.00</td>\n",
              "      <td>0.00</td>\n",
              "      <td>0.01</td>\n",
              "      <td>0.04</td>\n",
              "      <td>0.00</td>\n",
              "      <td>0.00</td>\n",
              "      <td>0.00</td>\n",
              "      <td>0.00</td>\n",
              "      <td>0.00</td>\n",
              "      <td>0.01</td>\n",
              "      <td>0.00</td>\n",
              "      <td>0.03</td>\n",
              "      <td>0.00</td>\n",
              "      <td>0.04</td>\n",
              "      <td>0.02</td>\n",
              "      <td>0.00</td>\n",
              "      <td>0.01</td>\n",
              "      <td>0.00</td>\n",
              "      <td>0.00</td>\n",
              "      <td>0.00</td>\n",
              "      <td>0.08</td>\n",
              "      <td>0.01</td>\n",
              "      <td>0.00</td>\n",
              "      <td>0.02</td>\n",
              "      <td>0.00</td>\n",
              "      <td>0.00</td>\n",
              "      <td>0.00</td>\n",
              "      <td>0.00</td>\n",
              "      <td>0.01</td>\n",
              "      <td>...</td>\n",
              "      <td>0.0</td>\n",
              "      <td>0.0</td>\n",
              "      <td>0.0</td>\n",
              "      <td>0.0</td>\n",
              "      <td>0.0</td>\n",
              "      <td>0.0</td>\n",
              "      <td>0.0</td>\n",
              "      <td>0.0</td>\n",
              "      <td>0.0</td>\n",
              "      <td>0.0</td>\n",
              "      <td>0.0</td>\n",
              "      <td>0.0</td>\n",
              "      <td>0.0</td>\n",
              "      <td>0.0</td>\n",
              "      <td>0.0</td>\n",
              "      <td>0.0</td>\n",
              "      <td>0.0</td>\n",
              "      <td>0.0</td>\n",
              "      <td>0.0</td>\n",
              "      <td>0.0</td>\n",
              "      <td>0.0</td>\n",
              "      <td>0.0</td>\n",
              "      <td>0.0</td>\n",
              "      <td>0.0</td>\n",
              "      <td>0.0</td>\n",
              "      <td>0.0</td>\n",
              "      <td>0.0</td>\n",
              "      <td>0.0</td>\n",
              "      <td>0.0</td>\n",
              "      <td>0.0</td>\n",
              "      <td>0.0</td>\n",
              "      <td>0.0</td>\n",
              "      <td>0.0</td>\n",
              "      <td>0.0</td>\n",
              "      <td>0.0</td>\n",
              "      <td>0.0</td>\n",
              "      <td>0.0</td>\n",
              "      <td>0.0</td>\n",
              "      <td>0.0</td>\n",
              "      <td>0.0</td>\n",
              "    </tr>\n",
              "    <tr>\n",
              "      <th>3</th>\n",
              "      <td>Campo Grande</td>\n",
              "      <td>0.00</td>\n",
              "      <td>0.04</td>\n",
              "      <td>0.09</td>\n",
              "      <td>0.00</td>\n",
              "      <td>0.01</td>\n",
              "      <td>0.01</td>\n",
              "      <td>0.01</td>\n",
              "      <td>0.00</td>\n",
              "      <td>0.03</td>\n",
              "      <td>0.00</td>\n",
              "      <td>0.00</td>\n",
              "      <td>0.00</td>\n",
              "      <td>0.00</td>\n",
              "      <td>0.02</td>\n",
              "      <td>0.01</td>\n",
              "      <td>0.00</td>\n",
              "      <td>0.02</td>\n",
              "      <td>0.00</td>\n",
              "      <td>0.01</td>\n",
              "      <td>0.03</td>\n",
              "      <td>0.00</td>\n",
              "      <td>0.01</td>\n",
              "      <td>0.00</td>\n",
              "      <td>0.03</td>\n",
              "      <td>0.00</td>\n",
              "      <td>0.00</td>\n",
              "      <td>0.00</td>\n",
              "      <td>0.00</td>\n",
              "      <td>0.01</td>\n",
              "      <td>0.00</td>\n",
              "      <td>0.04</td>\n",
              "      <td>0.01</td>\n",
              "      <td>0.00</td>\n",
              "      <td>0.02</td>\n",
              "      <td>0.03</td>\n",
              "      <td>0.00</td>\n",
              "      <td>0.01</td>\n",
              "      <td>0.01</td>\n",
              "      <td>0.03</td>\n",
              "      <td>...</td>\n",
              "      <td>0.0</td>\n",
              "      <td>0.0</td>\n",
              "      <td>0.0</td>\n",
              "      <td>0.0</td>\n",
              "      <td>0.0</td>\n",
              "      <td>0.0</td>\n",
              "      <td>0.0</td>\n",
              "      <td>0.0</td>\n",
              "      <td>0.0</td>\n",
              "      <td>0.0</td>\n",
              "      <td>0.0</td>\n",
              "      <td>0.0</td>\n",
              "      <td>0.0</td>\n",
              "      <td>0.0</td>\n",
              "      <td>0.0</td>\n",
              "      <td>0.0</td>\n",
              "      <td>0.0</td>\n",
              "      <td>0.0</td>\n",
              "      <td>0.0</td>\n",
              "      <td>0.0</td>\n",
              "      <td>0.0</td>\n",
              "      <td>0.0</td>\n",
              "      <td>0.0</td>\n",
              "      <td>0.0</td>\n",
              "      <td>0.0</td>\n",
              "      <td>0.0</td>\n",
              "      <td>0.0</td>\n",
              "      <td>0.0</td>\n",
              "      <td>0.0</td>\n",
              "      <td>0.0</td>\n",
              "      <td>0.0</td>\n",
              "      <td>0.0</td>\n",
              "      <td>0.0</td>\n",
              "      <td>0.0</td>\n",
              "      <td>0.0</td>\n",
              "      <td>0.0</td>\n",
              "      <td>0.0</td>\n",
              "      <td>0.0</td>\n",
              "      <td>0.0</td>\n",
              "      <td>0.0</td>\n",
              "    </tr>\n",
              "    <tr>\n",
              "      <th>4</th>\n",
              "      <td>Macapa</td>\n",
              "      <td>0.00</td>\n",
              "      <td>0.03</td>\n",
              "      <td>0.00</td>\n",
              "      <td>0.01</td>\n",
              "      <td>0.01</td>\n",
              "      <td>0.00</td>\n",
              "      <td>0.00</td>\n",
              "      <td>0.00</td>\n",
              "      <td>0.10</td>\n",
              "      <td>0.00</td>\n",
              "      <td>0.00</td>\n",
              "      <td>0.00</td>\n",
              "      <td>0.00</td>\n",
              "      <td>0.00</td>\n",
              "      <td>0.00</td>\n",
              "      <td>0.01</td>\n",
              "      <td>0.00</td>\n",
              "      <td>0.01</td>\n",
              "      <td>0.05</td>\n",
              "      <td>0.00</td>\n",
              "      <td>0.00</td>\n",
              "      <td>0.01</td>\n",
              "      <td>0.02</td>\n",
              "      <td>0.02</td>\n",
              "      <td>0.00</td>\n",
              "      <td>0.00</td>\n",
              "      <td>0.02</td>\n",
              "      <td>0.01</td>\n",
              "      <td>0.01</td>\n",
              "      <td>0.00</td>\n",
              "      <td>0.08</td>\n",
              "      <td>0.01</td>\n",
              "      <td>0.00</td>\n",
              "      <td>0.02</td>\n",
              "      <td>0.02</td>\n",
              "      <td>0.00</td>\n",
              "      <td>0.00</td>\n",
              "      <td>0.01</td>\n",
              "      <td>0.01</td>\n",
              "      <td>...</td>\n",
              "      <td>0.0</td>\n",
              "      <td>0.0</td>\n",
              "      <td>0.0</td>\n",
              "      <td>0.0</td>\n",
              "      <td>0.0</td>\n",
              "      <td>0.0</td>\n",
              "      <td>0.0</td>\n",
              "      <td>0.0</td>\n",
              "      <td>0.0</td>\n",
              "      <td>0.0</td>\n",
              "      <td>0.0</td>\n",
              "      <td>0.0</td>\n",
              "      <td>0.0</td>\n",
              "      <td>0.0</td>\n",
              "      <td>0.0</td>\n",
              "      <td>0.0</td>\n",
              "      <td>0.0</td>\n",
              "      <td>0.0</td>\n",
              "      <td>0.0</td>\n",
              "      <td>0.0</td>\n",
              "      <td>0.0</td>\n",
              "      <td>0.0</td>\n",
              "      <td>0.0</td>\n",
              "      <td>0.0</td>\n",
              "      <td>0.0</td>\n",
              "      <td>0.0</td>\n",
              "      <td>0.0</td>\n",
              "      <td>0.0</td>\n",
              "      <td>0.0</td>\n",
              "      <td>0.0</td>\n",
              "      <td>0.0</td>\n",
              "      <td>0.0</td>\n",
              "      <td>0.0</td>\n",
              "      <td>0.0</td>\n",
              "      <td>0.0</td>\n",
              "      <td>0.0</td>\n",
              "      <td>0.0</td>\n",
              "      <td>0.0</td>\n",
              "      <td>0.0</td>\n",
              "      <td>0.0</td>\n",
              "    </tr>\n",
              "  </tbody>\n",
              "</table>\n",
              "<p>5 rows × 255 columns</p>\n",
              "</div>"
            ],
            "text/plain": [
              "           city  Fish & Chips Shop   Gym  ...  Motorcycle Shop  Aquarium  Beach Bar\n",
              "0   Porto Velho               0.01  0.06  ...              0.0       0.0        0.0\n",
              "1        Manaus               0.01  0.01  ...              0.0       0.0        0.0\n",
              "2    Rio Branco               0.00  0.04  ...              0.0       0.0        0.0\n",
              "3  Campo Grande               0.00  0.04  ...              0.0       0.0        0.0\n",
              "4        Macapa               0.00  0.03  ...              0.0       0.0        0.0\n",
              "\n",
              "[5 rows x 255 columns]"
            ]
          },
          "metadata": {
            "tags": []
          },
          "execution_count": 15
        }
      ]
    },
    {
      "cell_type": "markdown",
      "metadata": {
        "id": "3PZ6fhIdQlTb",
        "colab_type": "text"
      },
      "source": [
        "Now we have to find the best number of clusters, this can be done using the [silhouette score](https://en.wikipedia.org/wiki/Silhouette_(clustering)), which is a metric that measures how well clusters are formed. This score has a range from -1 to 1, where 1 is the best clustering result possible, therefore, higher values of silhouette mean better cluster formation.\n",
        "\n",
        "In the algorithm below, we analyze a range of cluster number and select the one with the best metric."
      ]
    },
    {
      "cell_type": "code",
      "metadata": {
        "id": "6D1EZPq5PO4k",
        "colab_type": "code",
        "outputId": "bbc68b3e-cbd7-4c20-a7e6-dc815e01f8ab",
        "colab": {
          "base_uri": "https://localhost:8080/",
          "height": 34
        }
      },
      "source": [
        "number_test_clusters = [*range(4,15)]\n",
        "best_s_score = -10\n",
        "best_n_cluster = 0\n",
        "for n_cluster in number_test_clusters:\n",
        "  kmeans = KMeans(n_clusters=n_cluster, random_state=0).fit(df_norm_city.drop(columns=['city']))\n",
        "  s_score = silhouette_score(df_norm_city.drop(columns=['city']), kmeans.labels_)\n",
        "\n",
        "  if s_score > best_s_score:\n",
        "    best_s_score = s_score\n",
        "    best_n_cluster = n_cluster\n",
        "\n",
        "print(f'The best number of clusters is {best_n_cluster} with a silhouette score of {best_s_score}')"
      ],
      "execution_count": 16,
      "outputs": [
        {
          "output_type": "stream",
          "text": [
            "The best number of clusters is 11 with a silhouette score of 0.05864430928808369\n"
          ],
          "name": "stdout"
        }
      ]
    },
    {
      "cell_type": "markdown",
      "metadata": {
        "id": "-FNlXsEmSI4p",
        "colab_type": "text"
      },
      "source": [
        "As we can see above, from a range of 4 to 14 clusters, the best cluster number was 11. Therefore, we will use that number to make our analysis."
      ]
    },
    {
      "cell_type": "code",
      "metadata": {
        "id": "H4NVTp82fjpA",
        "colab_type": "code",
        "colab": {}
      },
      "source": [
        "kmeans = KMeans(n_clusters=11, random_state=0).fit(df_norm_city.drop(columns=['city']))"
      ],
      "execution_count": 0,
      "outputs": []
    },
    {
      "cell_type": "code",
      "metadata": {
        "id": "TDRc8U7pflVh",
        "colab_type": "code",
        "outputId": "9576a48d-57e8-4f7d-e565-bf209186df4c",
        "colab": {
          "base_uri": "https://localhost:8080/",
          "height": 51
        }
      },
      "source": [
        "kmeans.labels_"
      ],
      "execution_count": 18,
      "outputs": [
        {
          "output_type": "execute_result",
          "data": {
            "text/plain": [
              "array([ 7,  5,  2,  6,  5,  6,  5,  7,  2,  7,  3,  8,  5,  0,  7,  1,  4,\n",
              "       10, 10,  0,  3,  7,  1,  4,  9,  7, 10], dtype=int32)"
            ]
          },
          "metadata": {
            "tags": []
          },
          "execution_count": 18
        }
      ]
    },
    {
      "cell_type": "markdown",
      "metadata": {
        "id": "PZWp0p_CUYKC",
        "colab_type": "text"
      },
      "source": [
        "Now, let's create a new cluster of cities to store the cluster number information."
      ]
    },
    {
      "cell_type": "code",
      "metadata": {
        "id": "xXqj2rpbf0Tv",
        "colab_type": "code",
        "colab": {}
      },
      "source": [
        "df_analysis = df_cap.copy()"
      ],
      "execution_count": 0,
      "outputs": []
    },
    {
      "cell_type": "code",
      "metadata": {
        "id": "hNZnjUW8f9b2",
        "colab_type": "code",
        "colab": {}
      },
      "source": [
        "df_analysis['cluster'] = kmeans.labels_"
      ],
      "execution_count": 0,
      "outputs": []
    },
    {
      "cell_type": "markdown",
      "metadata": {
        "id": "wQ6OwUcGOlPz",
        "colab_type": "text"
      },
      "source": [
        "## Results and Discussion <a name=\"results\"></a>"
      ]
    },
    {
      "cell_type": "markdown",
      "metadata": {
        "id": "MCtw65LYWwm3",
        "colab_type": "text"
      },
      "source": [
        "Now, let's see each individual cluster"
      ]
    },
    {
      "cell_type": "code",
      "metadata": {
        "id": "nR41niMFO0GS",
        "colab_type": "code",
        "colab": {}
      },
      "source": [
        "region_information = {'North': ['Manaus', 'Rio Branco', 'Boa Vista', 'Porto Velho', 'Macapa', 'Belem', 'Palmas'], \n",
        "                      'Northeast': ['Sao Luis', 'Recife', 'Salvador', 'Fortaleza', 'Natal', 'Maceio', 'Joao Pessoa', 'Teresina', 'Acaraju'],\n",
        "                      'Central-West': ['Campo Grande', 'Cuiaba', 'Goiania', 'Brasilia'],\n",
        "                      'Southeast': ['Belo Horizonte', 'Sao Paulo', 'Vitoria', 'Rio de Janeiro'],\n",
        "                      'South': ['Curitiba', 'Florianopolis', 'Porto Alegre']}"
      ],
      "execution_count": 0,
      "outputs": []
    },
    {
      "cell_type": "code",
      "metadata": {
        "id": "sncYaUKqRaWw",
        "colab_type": "code",
        "colab": {}
      },
      "source": [
        "dict_city_region = {}\n",
        "for key, valueList in region_information.items():\n",
        "  for value in valueList:\n",
        "    dict_city_region[value] = key"
      ],
      "execution_count": 0,
      "outputs": []
    },
    {
      "cell_type": "code",
      "metadata": {
        "id": "OACKfgjwQ3lp",
        "colab_type": "code",
        "colab": {}
      },
      "source": [
        "df_analysis['region'] = df_analysis['city'].map(dict_city_region)"
      ],
      "execution_count": 0,
      "outputs": []
    },
    {
      "cell_type": "code",
      "metadata": {
        "id": "MbOV_OxgW6-_",
        "colab_type": "code",
        "outputId": "15df1d8e-7d97-4ed5-e850-6cb3c7c20c20",
        "colab": {
          "base_uri": "https://localhost:8080/",
          "height": 1000
        }
      },
      "source": [
        "for cluster_n in set(kmeans.labels_):\n",
        "  print(f'Cluster {cluster_n} cities:\\n')\n",
        "  print(display(HTML(df_analysis[df_analysis['cluster'] == cluster_n].to_html())))\n",
        "  print('\\n')"
      ],
      "execution_count": 51,
      "outputs": [
        {
          "output_type": "stream",
          "text": [
            "Cluster 0 cities:\n",
            "\n"
          ],
          "name": "stdout"
        },
        {
          "output_type": "display_data",
          "data": {
            "text/html": [
              "<table border=\"1\" class=\"dataframe\">\n",
              "  <thead>\n",
              "    <tr style=\"text-align: right;\">\n",
              "      <th></th>\n",
              "      <th>city</th>\n",
              "      <th>latitude</th>\n",
              "      <th>longitude</th>\n",
              "      <th>cluster</th>\n",
              "      <th>region</th>\n",
              "    </tr>\n",
              "  </thead>\n",
              "  <tbody>\n",
              "    <tr>\n",
              "      <th>13</th>\n",
              "      <td>Sao Luis</td>\n",
              "      <td>-2.529956</td>\n",
              "      <td>-44.252316</td>\n",
              "      <td>0</td>\n",
              "      <td>Northeast</td>\n",
              "    </tr>\n",
              "    <tr>\n",
              "      <th>19</th>\n",
              "      <td>Florianopolis</td>\n",
              "      <td>-27.593404</td>\n",
              "      <td>-48.548334</td>\n",
              "      <td>0</td>\n",
              "      <td>South</td>\n",
              "    </tr>\n",
              "  </tbody>\n",
              "</table>"
            ],
            "text/plain": [
              "<IPython.core.display.HTML object>"
            ]
          },
          "metadata": {
            "tags": []
          }
        },
        {
          "output_type": "stream",
          "text": [
            "None\n",
            "\n",
            "\n",
            "Cluster 1 cities:\n",
            "\n"
          ],
          "name": "stdout"
        },
        {
          "output_type": "display_data",
          "data": {
            "text/html": [
              "<table border=\"1\" class=\"dataframe\">\n",
              "  <thead>\n",
              "    <tr style=\"text-align: right;\">\n",
              "      <th></th>\n",
              "      <th>city</th>\n",
              "      <th>latitude</th>\n",
              "      <th>longitude</th>\n",
              "      <th>cluster</th>\n",
              "      <th>region</th>\n",
              "    </tr>\n",
              "  </thead>\n",
              "  <tbody>\n",
              "    <tr>\n",
              "      <th>15</th>\n",
              "      <td>Salvador</td>\n",
              "      <td>-12.976777</td>\n",
              "      <td>-38.507956</td>\n",
              "      <td>1</td>\n",
              "      <td>Northeast</td>\n",
              "    </tr>\n",
              "    <tr>\n",
              "      <th>22</th>\n",
              "      <td>Recife</td>\n",
              "      <td>-8.052249</td>\n",
              "      <td>-34.889198</td>\n",
              "      <td>1</td>\n",
              "      <td>Northeast</td>\n",
              "    </tr>\n",
              "  </tbody>\n",
              "</table>"
            ],
            "text/plain": [
              "<IPython.core.display.HTML object>"
            ]
          },
          "metadata": {
            "tags": []
          }
        },
        {
          "output_type": "stream",
          "text": [
            "None\n",
            "\n",
            "\n",
            "Cluster 2 cities:\n",
            "\n"
          ],
          "name": "stdout"
        },
        {
          "output_type": "display_data",
          "data": {
            "text/html": [
              "<table border=\"1\" class=\"dataframe\">\n",
              "  <thead>\n",
              "    <tr style=\"text-align: right;\">\n",
              "      <th></th>\n",
              "      <th>city</th>\n",
              "      <th>latitude</th>\n",
              "      <th>longitude</th>\n",
              "      <th>cluster</th>\n",
              "      <th>region</th>\n",
              "    </tr>\n",
              "  </thead>\n",
              "  <tbody>\n",
              "    <tr>\n",
              "      <th>2</th>\n",
              "      <td>Rio Branco</td>\n",
              "      <td>-9.971815</td>\n",
              "      <td>-67.825691</td>\n",
              "      <td>2</td>\n",
              "      <td>North</td>\n",
              "    </tr>\n",
              "    <tr>\n",
              "      <th>8</th>\n",
              "      <td>Palmas</td>\n",
              "      <td>-10.246682</td>\n",
              "      <td>-48.324712</td>\n",
              "      <td>2</td>\n",
              "      <td>North</td>\n",
              "    </tr>\n",
              "  </tbody>\n",
              "</table>"
            ],
            "text/plain": [
              "<IPython.core.display.HTML object>"
            ]
          },
          "metadata": {
            "tags": []
          }
        },
        {
          "output_type": "stream",
          "text": [
            "None\n",
            "\n",
            "\n",
            "Cluster 3 cities:\n",
            "\n"
          ],
          "name": "stdout"
        },
        {
          "output_type": "display_data",
          "data": {
            "text/html": [
              "<table border=\"1\" class=\"dataframe\">\n",
              "  <thead>\n",
              "    <tr style=\"text-align: right;\">\n",
              "      <th></th>\n",
              "      <th>city</th>\n",
              "      <th>latitude</th>\n",
              "      <th>longitude</th>\n",
              "      <th>cluster</th>\n",
              "      <th>region</th>\n",
              "    </tr>\n",
              "  </thead>\n",
              "  <tbody>\n",
              "    <tr>\n",
              "      <th>10</th>\n",
              "      <td>Sao Paulo</td>\n",
              "      <td>-23.552193</td>\n",
              "      <td>-46.639079</td>\n",
              "      <td>3</td>\n",
              "      <td>Southeast</td>\n",
              "    </tr>\n",
              "    <tr>\n",
              "      <th>20</th>\n",
              "      <td>Belo Horizonte</td>\n",
              "      <td>-19.915741</td>\n",
              "      <td>-43.941747</td>\n",
              "      <td>3</td>\n",
              "      <td>Southeast</td>\n",
              "    </tr>\n",
              "  </tbody>\n",
              "</table>"
            ],
            "text/plain": [
              "<IPython.core.display.HTML object>"
            ]
          },
          "metadata": {
            "tags": []
          }
        },
        {
          "output_type": "stream",
          "text": [
            "None\n",
            "\n",
            "\n",
            "Cluster 4 cities:\n",
            "\n"
          ],
          "name": "stdout"
        },
        {
          "output_type": "display_data",
          "data": {
            "text/html": [
              "<table border=\"1\" class=\"dataframe\">\n",
              "  <thead>\n",
              "    <tr style=\"text-align: right;\">\n",
              "      <th></th>\n",
              "      <th>city</th>\n",
              "      <th>latitude</th>\n",
              "      <th>longitude</th>\n",
              "      <th>cluster</th>\n",
              "      <th>region</th>\n",
              "    </tr>\n",
              "  </thead>\n",
              "  <tbody>\n",
              "    <tr>\n",
              "      <th>16</th>\n",
              "      <td>Maceio</td>\n",
              "      <td>-9.650390</td>\n",
              "      <td>-35.710339</td>\n",
              "      <td>4</td>\n",
              "      <td>Northeast</td>\n",
              "    </tr>\n",
              "    <tr>\n",
              "      <th>23</th>\n",
              "      <td>Joao Pessoa</td>\n",
              "      <td>-7.119057</td>\n",
              "      <td>-34.838982</td>\n",
              "      <td>4</td>\n",
              "      <td>Northeast</td>\n",
              "    </tr>\n",
              "  </tbody>\n",
              "</table>"
            ],
            "text/plain": [
              "<IPython.core.display.HTML object>"
            ]
          },
          "metadata": {
            "tags": []
          }
        },
        {
          "output_type": "stream",
          "text": [
            "None\n",
            "\n",
            "\n",
            "Cluster 5 cities:\n",
            "\n"
          ],
          "name": "stdout"
        },
        {
          "output_type": "display_data",
          "data": {
            "text/html": [
              "<table border=\"1\" class=\"dataframe\">\n",
              "  <thead>\n",
              "    <tr style=\"text-align: right;\">\n",
              "      <th></th>\n",
              "      <th>city</th>\n",
              "      <th>latitude</th>\n",
              "      <th>longitude</th>\n",
              "      <th>cluster</th>\n",
              "      <th>region</th>\n",
              "    </tr>\n",
              "  </thead>\n",
              "  <tbody>\n",
              "    <tr>\n",
              "      <th>1</th>\n",
              "      <td>Manaus</td>\n",
              "      <td>-3.120778</td>\n",
              "      <td>-60.021362</td>\n",
              "      <td>5</td>\n",
              "      <td>North</td>\n",
              "    </tr>\n",
              "    <tr>\n",
              "      <th>4</th>\n",
              "      <td>Macapa</td>\n",
              "      <td>0.033906</td>\n",
              "      <td>-51.066463</td>\n",
              "      <td>5</td>\n",
              "      <td>North</td>\n",
              "    </tr>\n",
              "    <tr>\n",
              "      <th>6</th>\n",
              "      <td>Boa Vista</td>\n",
              "      <td>2.823485</td>\n",
              "      <td>-60.679053</td>\n",
              "      <td>5</td>\n",
              "      <td>North</td>\n",
              "    </tr>\n",
              "    <tr>\n",
              "      <th>12</th>\n",
              "      <td>Belem</td>\n",
              "      <td>-1.455427</td>\n",
              "      <td>-48.483116</td>\n",
              "      <td>5</td>\n",
              "      <td>North</td>\n",
              "    </tr>\n",
              "  </tbody>\n",
              "</table>"
            ],
            "text/plain": [
              "<IPython.core.display.HTML object>"
            ]
          },
          "metadata": {
            "tags": []
          }
        },
        {
          "output_type": "stream",
          "text": [
            "None\n",
            "\n",
            "\n",
            "Cluster 6 cities:\n",
            "\n"
          ],
          "name": "stdout"
        },
        {
          "output_type": "display_data",
          "data": {
            "text/html": [
              "<table border=\"1\" class=\"dataframe\">\n",
              "  <thead>\n",
              "    <tr style=\"text-align: right;\">\n",
              "      <th></th>\n",
              "      <th>city</th>\n",
              "      <th>latitude</th>\n",
              "      <th>longitude</th>\n",
              "      <th>cluster</th>\n",
              "      <th>region</th>\n",
              "    </tr>\n",
              "  </thead>\n",
              "  <tbody>\n",
              "    <tr>\n",
              "      <th>3</th>\n",
              "      <td>Campo Grande</td>\n",
              "      <td>-20.467168</td>\n",
              "      <td>-54.619796</td>\n",
              "      <td>6</td>\n",
              "      <td>Central-West</td>\n",
              "    </tr>\n",
              "    <tr>\n",
              "      <th>5</th>\n",
              "      <td>Brasilia</td>\n",
              "      <td>-15.807910</td>\n",
              "      <td>-47.959944</td>\n",
              "      <td>6</td>\n",
              "      <td>Central-West</td>\n",
              "    </tr>\n",
              "  </tbody>\n",
              "</table>"
            ],
            "text/plain": [
              "<IPython.core.display.HTML object>"
            ]
          },
          "metadata": {
            "tags": []
          }
        },
        {
          "output_type": "stream",
          "text": [
            "None\n",
            "\n",
            "\n",
            "Cluster 7 cities:\n",
            "\n"
          ],
          "name": "stdout"
        },
        {
          "output_type": "display_data",
          "data": {
            "text/html": [
              "<table border=\"1\" class=\"dataframe\">\n",
              "  <thead>\n",
              "    <tr style=\"text-align: right;\">\n",
              "      <th></th>\n",
              "      <th>city</th>\n",
              "      <th>latitude</th>\n",
              "      <th>longitude</th>\n",
              "      <th>cluster</th>\n",
              "      <th>region</th>\n",
              "    </tr>\n",
              "  </thead>\n",
              "  <tbody>\n",
              "    <tr>\n",
              "      <th>0</th>\n",
              "      <td>Porto Velho</td>\n",
              "      <td>-8.765641</td>\n",
              "      <td>-63.875509</td>\n",
              "      <td>7</td>\n",
              "      <td>North</td>\n",
              "    </tr>\n",
              "    <tr>\n",
              "      <th>7</th>\n",
              "      <td>Cuiaba</td>\n",
              "      <td>-15.593696</td>\n",
              "      <td>-56.098124</td>\n",
              "      <td>7</td>\n",
              "      <td>Central-West</td>\n",
              "    </tr>\n",
              "    <tr>\n",
              "      <th>9</th>\n",
              "      <td>Teresina</td>\n",
              "      <td>-5.086539</td>\n",
              "      <td>-42.800808</td>\n",
              "      <td>7</td>\n",
              "      <td>Northeast</td>\n",
              "    </tr>\n",
              "    <tr>\n",
              "      <th>14</th>\n",
              "      <td>Goiania</td>\n",
              "      <td>-16.690268</td>\n",
              "      <td>-49.265598</td>\n",
              "      <td>7</td>\n",
              "      <td>Central-West</td>\n",
              "    </tr>\n",
              "    <tr>\n",
              "      <th>21</th>\n",
              "      <td>Fortaleza</td>\n",
              "      <td>-3.734547</td>\n",
              "      <td>-38.528010</td>\n",
              "      <td>7</td>\n",
              "      <td>Northeast</td>\n",
              "    </tr>\n",
              "    <tr>\n",
              "      <th>25</th>\n",
              "      <td>Natal</td>\n",
              "      <td>-5.789384</td>\n",
              "      <td>-35.204150</td>\n",
              "      <td>7</td>\n",
              "      <td>Northeast</td>\n",
              "    </tr>\n",
              "  </tbody>\n",
              "</table>"
            ],
            "text/plain": [
              "<IPython.core.display.HTML object>"
            ]
          },
          "metadata": {
            "tags": []
          }
        },
        {
          "output_type": "stream",
          "text": [
            "None\n",
            "\n",
            "\n",
            "Cluster 8 cities:\n",
            "\n"
          ],
          "name": "stdout"
        },
        {
          "output_type": "display_data",
          "data": {
            "text/html": [
              "<table border=\"1\" class=\"dataframe\">\n",
              "  <thead>\n",
              "    <tr style=\"text-align: right;\">\n",
              "      <th></th>\n",
              "      <th>city</th>\n",
              "      <th>latitude</th>\n",
              "      <th>longitude</th>\n",
              "      <th>cluster</th>\n",
              "      <th>region</th>\n",
              "    </tr>\n",
              "  </thead>\n",
              "  <tbody>\n",
              "    <tr>\n",
              "      <th>11</th>\n",
              "      <td>Rio de Janeiro</td>\n",
              "      <td>-22.908964</td>\n",
              "      <td>-43.179471</td>\n",
              "      <td>8</td>\n",
              "      <td>Southeast</td>\n",
              "    </tr>\n",
              "  </tbody>\n",
              "</table>"
            ],
            "text/plain": [
              "<IPython.core.display.HTML object>"
            ]
          },
          "metadata": {
            "tags": []
          }
        },
        {
          "output_type": "stream",
          "text": [
            "None\n",
            "\n",
            "\n",
            "Cluster 9 cities:\n",
            "\n"
          ],
          "name": "stdout"
        },
        {
          "output_type": "display_data",
          "data": {
            "text/html": [
              "<table border=\"1\" class=\"dataframe\">\n",
              "  <thead>\n",
              "    <tr style=\"text-align: right;\">\n",
              "      <th></th>\n",
              "      <th>city</th>\n",
              "      <th>latitude</th>\n",
              "      <th>longitude</th>\n",
              "      <th>cluster</th>\n",
              "      <th>region</th>\n",
              "    </tr>\n",
              "  </thead>\n",
              "  <tbody>\n",
              "    <tr>\n",
              "      <th>24</th>\n",
              "      <td>Acaraju</td>\n",
              "      <td>-10.93484</td>\n",
              "      <td>-37.063968</td>\n",
              "      <td>9</td>\n",
              "      <td>Northeast</td>\n",
              "    </tr>\n",
              "  </tbody>\n",
              "</table>"
            ],
            "text/plain": [
              "<IPython.core.display.HTML object>"
            ]
          },
          "metadata": {
            "tags": []
          }
        },
        {
          "output_type": "stream",
          "text": [
            "None\n",
            "\n",
            "\n",
            "Cluster 10 cities:\n",
            "\n"
          ],
          "name": "stdout"
        },
        {
          "output_type": "display_data",
          "data": {
            "text/html": [
              "<table border=\"1\" class=\"dataframe\">\n",
              "  <thead>\n",
              "    <tr style=\"text-align: right;\">\n",
              "      <th></th>\n",
              "      <th>city</th>\n",
              "      <th>latitude</th>\n",
              "      <th>longitude</th>\n",
              "      <th>cluster</th>\n",
              "      <th>region</th>\n",
              "    </tr>\n",
              "  </thead>\n",
              "  <tbody>\n",
              "    <tr>\n",
              "      <th>17</th>\n",
              "      <td>Porto Alegre</td>\n",
              "      <td>-30.031338</td>\n",
              "      <td>-51.207043</td>\n",
              "      <td>10</td>\n",
              "      <td>South</td>\n",
              "    </tr>\n",
              "    <tr>\n",
              "      <th>18</th>\n",
              "      <td>Curitiba</td>\n",
              "      <td>-25.427976</td>\n",
              "      <td>-49.260580</td>\n",
              "      <td>10</td>\n",
              "      <td>South</td>\n",
              "    </tr>\n",
              "    <tr>\n",
              "      <th>26</th>\n",
              "      <td>Vitoria</td>\n",
              "      <td>-20.294332</td>\n",
              "      <td>-40.296230</td>\n",
              "      <td>10</td>\n",
              "      <td>Southeast</td>\n",
              "    </tr>\n",
              "  </tbody>\n",
              "</table>"
            ],
            "text/plain": [
              "<IPython.core.display.HTML object>"
            ]
          },
          "metadata": {
            "tags": []
          }
        },
        {
          "output_type": "stream",
          "text": [
            "None\n",
            "\n",
            "\n"
          ],
          "name": "stdout"
        }
      ]
    },
    {
      "cell_type": "markdown",
      "metadata": {
        "id": "5PJoux23StOO",
        "colab_type": "text"
      },
      "source": [
        "The result above shows a very interesting trend, cities that are in the same region looks to cluster together. There are some exceptions like in cluster 0, 7 and 10, but most of cities cluster with cities that are in the same region."
      ]
    },
    {
      "cell_type": "markdown",
      "metadata": {
        "id": "VgZjxwLzTQTM",
        "colab_type": "text"
      },
      "source": [
        "Now, for each cluster, let's see what are the most commom venues:"
      ]
    },
    {
      "cell_type": "code",
      "metadata": {
        "id": "LksrsG7VZaMJ",
        "colab_type": "code",
        "outputId": "02044b7e-3158-4eca-dfa9-408ee9a7b1d8",
        "colab": {
          "base_uri": "https://localhost:8080/",
          "height": 1000
        }
      },
      "source": [
        "for cluster_n in set(kmeans.labels_):\n",
        "  print(f'Most popular venues of cities: {\", \".join(df_analysis[df_analysis[\"cluster\"] == cluster_n][\"city\"].tolist())} \\n')\n",
        "  print(display(HTML(df_cities[df_cities['city'].isin(df_analysis[df_analysis['cluster'] == cluster_n]['city'].tolist())]['venue category'].value_counts().to_frame().head(10).to_html())))\n",
        "  print('\\n')\n",
        "\n"
      ],
      "execution_count": 52,
      "outputs": [
        {
          "output_type": "stream",
          "text": [
            "Most popular venues of cities: Sao Luis, Florianopolis \n",
            "\n"
          ],
          "name": "stdout"
        },
        {
          "output_type": "display_data",
          "data": {
            "text/html": [
              "<table border=\"1\" class=\"dataframe\">\n",
              "  <thead>\n",
              "    <tr style=\"text-align: right;\">\n",
              "      <th></th>\n",
              "      <th>venue category</th>\n",
              "    </tr>\n",
              "  </thead>\n",
              "  <tbody>\n",
              "    <tr>\n",
              "      <th>Gym / Fitness Center</th>\n",
              "      <td>16</td>\n",
              "    </tr>\n",
              "    <tr>\n",
              "      <th>Bakery</th>\n",
              "      <td>10</td>\n",
              "    </tr>\n",
              "    <tr>\n",
              "      <th>Restaurant</th>\n",
              "      <td>9</td>\n",
              "    </tr>\n",
              "    <tr>\n",
              "      <th>Café</th>\n",
              "      <td>7</td>\n",
              "    </tr>\n",
              "    <tr>\n",
              "      <th>Burger Joint</th>\n",
              "      <td>7</td>\n",
              "    </tr>\n",
              "    <tr>\n",
              "      <th>Sushi Restaurant</th>\n",
              "      <td>6</td>\n",
              "    </tr>\n",
              "    <tr>\n",
              "      <th>Bar</th>\n",
              "      <td>6</td>\n",
              "    </tr>\n",
              "    <tr>\n",
              "      <th>Ice Cream Shop</th>\n",
              "      <td>5</td>\n",
              "    </tr>\n",
              "    <tr>\n",
              "      <th>Plaza</th>\n",
              "      <td>5</td>\n",
              "    </tr>\n",
              "    <tr>\n",
              "      <th>Pizza Place</th>\n",
              "      <td>5</td>\n",
              "    </tr>\n",
              "  </tbody>\n",
              "</table>"
            ],
            "text/plain": [
              "<IPython.core.display.HTML object>"
            ]
          },
          "metadata": {
            "tags": []
          }
        },
        {
          "output_type": "stream",
          "text": [
            "None\n",
            "\n",
            "\n",
            "Most popular venues of cities: Salvador, Recife \n",
            "\n"
          ],
          "name": "stdout"
        },
        {
          "output_type": "display_data",
          "data": {
            "text/html": [
              "<table border=\"1\" class=\"dataframe\">\n",
              "  <thead>\n",
              "    <tr style=\"text-align: right;\">\n",
              "      <th></th>\n",
              "      <th>venue category</th>\n",
              "    </tr>\n",
              "  </thead>\n",
              "  <tbody>\n",
              "    <tr>\n",
              "      <th>Plaza</th>\n",
              "      <td>9</td>\n",
              "    </tr>\n",
              "    <tr>\n",
              "      <th>Bakery</th>\n",
              "      <td>8</td>\n",
              "    </tr>\n",
              "    <tr>\n",
              "      <th>Restaurant</th>\n",
              "      <td>8</td>\n",
              "    </tr>\n",
              "    <tr>\n",
              "      <th>Brazilian Restaurant</th>\n",
              "      <td>8</td>\n",
              "    </tr>\n",
              "    <tr>\n",
              "      <th>Art Museum</th>\n",
              "      <td>7</td>\n",
              "    </tr>\n",
              "    <tr>\n",
              "      <th>Coffee Shop</th>\n",
              "      <td>6</td>\n",
              "    </tr>\n",
              "    <tr>\n",
              "      <th>Ice Cream Shop</th>\n",
              "      <td>6</td>\n",
              "    </tr>\n",
              "    <tr>\n",
              "      <th>Café</th>\n",
              "      <td>6</td>\n",
              "    </tr>\n",
              "    <tr>\n",
              "      <th>Theater</th>\n",
              "      <td>5</td>\n",
              "    </tr>\n",
              "    <tr>\n",
              "      <th>Beach</th>\n",
              "      <td>5</td>\n",
              "    </tr>\n",
              "  </tbody>\n",
              "</table>"
            ],
            "text/plain": [
              "<IPython.core.display.HTML object>"
            ]
          },
          "metadata": {
            "tags": []
          }
        },
        {
          "output_type": "stream",
          "text": [
            "None\n",
            "\n",
            "\n",
            "Most popular venues of cities: Rio Branco, Palmas \n",
            "\n"
          ],
          "name": "stdout"
        },
        {
          "output_type": "display_data",
          "data": {
            "text/html": [
              "<table border=\"1\" class=\"dataframe\">\n",
              "  <thead>\n",
              "    <tr style=\"text-align: right;\">\n",
              "      <th></th>\n",
              "      <th>venue category</th>\n",
              "    </tr>\n",
              "  </thead>\n",
              "  <tbody>\n",
              "    <tr>\n",
              "      <th>Brazilian Restaurant</th>\n",
              "      <td>16</td>\n",
              "    </tr>\n",
              "    <tr>\n",
              "      <th>Ice Cream Shop</th>\n",
              "      <td>15</td>\n",
              "    </tr>\n",
              "    <tr>\n",
              "      <th>Gym / Fitness Center</th>\n",
              "      <td>12</td>\n",
              "    </tr>\n",
              "    <tr>\n",
              "      <th>BBQ Joint</th>\n",
              "      <td>9</td>\n",
              "    </tr>\n",
              "    <tr>\n",
              "      <th>Snack Place</th>\n",
              "      <td>8</td>\n",
              "    </tr>\n",
              "    <tr>\n",
              "      <th>Hotel</th>\n",
              "      <td>7</td>\n",
              "    </tr>\n",
              "    <tr>\n",
              "      <th>Sandwich Place</th>\n",
              "      <td>6</td>\n",
              "    </tr>\n",
              "    <tr>\n",
              "      <th>Gym</th>\n",
              "      <td>6</td>\n",
              "    </tr>\n",
              "    <tr>\n",
              "      <th>Park</th>\n",
              "      <td>5</td>\n",
              "    </tr>\n",
              "    <tr>\n",
              "      <th>Pizza Place</th>\n",
              "      <td>5</td>\n",
              "    </tr>\n",
              "  </tbody>\n",
              "</table>"
            ],
            "text/plain": [
              "<IPython.core.display.HTML object>"
            ]
          },
          "metadata": {
            "tags": []
          }
        },
        {
          "output_type": "stream",
          "text": [
            "None\n",
            "\n",
            "\n",
            "Most popular venues of cities: Sao Paulo, Belo Horizonte \n",
            "\n"
          ],
          "name": "stdout"
        },
        {
          "output_type": "display_data",
          "data": {
            "text/html": [
              "<table border=\"1\" class=\"dataframe\">\n",
              "  <thead>\n",
              "    <tr style=\"text-align: right;\">\n",
              "      <th></th>\n",
              "      <th>venue category</th>\n",
              "    </tr>\n",
              "  </thead>\n",
              "  <tbody>\n",
              "    <tr>\n",
              "      <th>Ice Cream Shop</th>\n",
              "      <td>13</td>\n",
              "    </tr>\n",
              "    <tr>\n",
              "      <th>Theater</th>\n",
              "      <td>12</td>\n",
              "    </tr>\n",
              "    <tr>\n",
              "      <th>Restaurant</th>\n",
              "      <td>11</td>\n",
              "    </tr>\n",
              "    <tr>\n",
              "      <th>Pizza Place</th>\n",
              "      <td>9</td>\n",
              "    </tr>\n",
              "    <tr>\n",
              "      <th>Brazilian Restaurant</th>\n",
              "      <td>8</td>\n",
              "    </tr>\n",
              "    <tr>\n",
              "      <th>Bookstore</th>\n",
              "      <td>6</td>\n",
              "    </tr>\n",
              "    <tr>\n",
              "      <th>Bar</th>\n",
              "      <td>6</td>\n",
              "    </tr>\n",
              "    <tr>\n",
              "      <th>Park</th>\n",
              "      <td>5</td>\n",
              "    </tr>\n",
              "    <tr>\n",
              "      <th>Italian Restaurant</th>\n",
              "      <td>5</td>\n",
              "    </tr>\n",
              "    <tr>\n",
              "      <th>Hotel</th>\n",
              "      <td>5</td>\n",
              "    </tr>\n",
              "  </tbody>\n",
              "</table>"
            ],
            "text/plain": [
              "<IPython.core.display.HTML object>"
            ]
          },
          "metadata": {
            "tags": []
          }
        },
        {
          "output_type": "stream",
          "text": [
            "None\n",
            "\n",
            "\n",
            "Most popular venues of cities: Maceio, Joao Pessoa \n",
            "\n"
          ],
          "name": "stdout"
        },
        {
          "output_type": "display_data",
          "data": {
            "text/html": [
              "<table border=\"1\" class=\"dataframe\">\n",
              "  <thead>\n",
              "    <tr style=\"text-align: right;\">\n",
              "      <th></th>\n",
              "      <th>venue category</th>\n",
              "    </tr>\n",
              "  </thead>\n",
              "  <tbody>\n",
              "    <tr>\n",
              "      <th>Hotel</th>\n",
              "      <td>13</td>\n",
              "    </tr>\n",
              "    <tr>\n",
              "      <th>Bar</th>\n",
              "      <td>12</td>\n",
              "    </tr>\n",
              "    <tr>\n",
              "      <th>Restaurant</th>\n",
              "      <td>11</td>\n",
              "    </tr>\n",
              "    <tr>\n",
              "      <th>Seafood Restaurant</th>\n",
              "      <td>10</td>\n",
              "    </tr>\n",
              "    <tr>\n",
              "      <th>Beach</th>\n",
              "      <td>8</td>\n",
              "    </tr>\n",
              "    <tr>\n",
              "      <th>Ice Cream Shop</th>\n",
              "      <td>7</td>\n",
              "    </tr>\n",
              "    <tr>\n",
              "      <th>Dessert Shop</th>\n",
              "      <td>6</td>\n",
              "    </tr>\n",
              "    <tr>\n",
              "      <th>Gym / Fitness Center</th>\n",
              "      <td>6</td>\n",
              "    </tr>\n",
              "    <tr>\n",
              "      <th>Northeastern Brazilian Restaurant</th>\n",
              "      <td>5</td>\n",
              "    </tr>\n",
              "    <tr>\n",
              "      <th>Pizza Place</th>\n",
              "      <td>5</td>\n",
              "    </tr>\n",
              "  </tbody>\n",
              "</table>"
            ],
            "text/plain": [
              "<IPython.core.display.HTML object>"
            ]
          },
          "metadata": {
            "tags": []
          }
        },
        {
          "output_type": "stream",
          "text": [
            "None\n",
            "\n",
            "\n",
            "Most popular venues of cities: Manaus, Macapa, Boa Vista, Belem \n",
            "\n"
          ],
          "name": "stdout"
        },
        {
          "output_type": "display_data",
          "data": {
            "text/html": [
              "<table border=\"1\" class=\"dataframe\">\n",
              "  <thead>\n",
              "    <tr style=\"text-align: right;\">\n",
              "      <th></th>\n",
              "      <th>venue category</th>\n",
              "    </tr>\n",
              "  </thead>\n",
              "  <tbody>\n",
              "    <tr>\n",
              "      <th>Brazilian Restaurant</th>\n",
              "      <td>26</td>\n",
              "    </tr>\n",
              "    <tr>\n",
              "      <th>Restaurant</th>\n",
              "      <td>23</td>\n",
              "    </tr>\n",
              "    <tr>\n",
              "      <th>Ice Cream Shop</th>\n",
              "      <td>21</td>\n",
              "    </tr>\n",
              "    <tr>\n",
              "      <th>Plaza</th>\n",
              "      <td>19</td>\n",
              "    </tr>\n",
              "    <tr>\n",
              "      <th>Gym / Fitness Center</th>\n",
              "      <td>16</td>\n",
              "    </tr>\n",
              "    <tr>\n",
              "      <th>BBQ Joint</th>\n",
              "      <td>12</td>\n",
              "    </tr>\n",
              "    <tr>\n",
              "      <th>Café</th>\n",
              "      <td>11</td>\n",
              "    </tr>\n",
              "    <tr>\n",
              "      <th>Bakery</th>\n",
              "      <td>11</td>\n",
              "    </tr>\n",
              "    <tr>\n",
              "      <th>Pizza Place</th>\n",
              "      <td>9</td>\n",
              "    </tr>\n",
              "    <tr>\n",
              "      <th>Japanese Restaurant</th>\n",
              "      <td>8</td>\n",
              "    </tr>\n",
              "  </tbody>\n",
              "</table>"
            ],
            "text/plain": [
              "<IPython.core.display.HTML object>"
            ]
          },
          "metadata": {
            "tags": []
          }
        },
        {
          "output_type": "stream",
          "text": [
            "None\n",
            "\n",
            "\n",
            "Most popular venues of cities: Campo Grande, Brasilia \n",
            "\n"
          ],
          "name": "stdout"
        },
        {
          "output_type": "display_data",
          "data": {
            "text/html": [
              "<table border=\"1\" class=\"dataframe\">\n",
              "  <thead>\n",
              "    <tr style=\"text-align: right;\">\n",
              "      <th></th>\n",
              "      <th>venue category</th>\n",
              "    </tr>\n",
              "  </thead>\n",
              "  <tbody>\n",
              "    <tr>\n",
              "      <th>Bar</th>\n",
              "      <td>14</td>\n",
              "    </tr>\n",
              "    <tr>\n",
              "      <th>Gym / Fitness Center</th>\n",
              "      <td>11</td>\n",
              "    </tr>\n",
              "    <tr>\n",
              "      <th>Ice Cream Shop</th>\n",
              "      <td>9</td>\n",
              "    </tr>\n",
              "    <tr>\n",
              "      <th>Café</th>\n",
              "      <td>7</td>\n",
              "    </tr>\n",
              "    <tr>\n",
              "      <th>Burger Joint</th>\n",
              "      <td>6</td>\n",
              "    </tr>\n",
              "    <tr>\n",
              "      <th>Gym</th>\n",
              "      <td>6</td>\n",
              "    </tr>\n",
              "    <tr>\n",
              "      <th>Bakery</th>\n",
              "      <td>6</td>\n",
              "    </tr>\n",
              "    <tr>\n",
              "      <th>Pastelaria</th>\n",
              "      <td>6</td>\n",
              "    </tr>\n",
              "    <tr>\n",
              "      <th>Middle Eastern Restaurant</th>\n",
              "      <td>5</td>\n",
              "    </tr>\n",
              "    <tr>\n",
              "      <th>Italian Restaurant</th>\n",
              "      <td>5</td>\n",
              "    </tr>\n",
              "  </tbody>\n",
              "</table>"
            ],
            "text/plain": [
              "<IPython.core.display.HTML object>"
            ]
          },
          "metadata": {
            "tags": []
          }
        },
        {
          "output_type": "stream",
          "text": [
            "None\n",
            "\n",
            "\n",
            "Most popular venues of cities: Porto Velho, Cuiaba, Teresina, Goiania, Fortaleza, Natal \n",
            "\n"
          ],
          "name": "stdout"
        },
        {
          "output_type": "display_data",
          "data": {
            "text/html": [
              "<table border=\"1\" class=\"dataframe\">\n",
              "  <thead>\n",
              "    <tr style=\"text-align: right;\">\n",
              "      <th></th>\n",
              "      <th>venue category</th>\n",
              "    </tr>\n",
              "  </thead>\n",
              "  <tbody>\n",
              "    <tr>\n",
              "      <th>Brazilian Restaurant</th>\n",
              "      <td>41</td>\n",
              "    </tr>\n",
              "    <tr>\n",
              "      <th>Bar</th>\n",
              "      <td>32</td>\n",
              "    </tr>\n",
              "    <tr>\n",
              "      <th>Restaurant</th>\n",
              "      <td>28</td>\n",
              "    </tr>\n",
              "    <tr>\n",
              "      <th>Ice Cream Shop</th>\n",
              "      <td>21</td>\n",
              "    </tr>\n",
              "    <tr>\n",
              "      <th>Gym</th>\n",
              "      <td>21</td>\n",
              "    </tr>\n",
              "    <tr>\n",
              "      <th>Gym / Fitness Center</th>\n",
              "      <td>19</td>\n",
              "    </tr>\n",
              "    <tr>\n",
              "      <th>Hotel</th>\n",
              "      <td>15</td>\n",
              "    </tr>\n",
              "    <tr>\n",
              "      <th>Bakery</th>\n",
              "      <td>15</td>\n",
              "    </tr>\n",
              "    <tr>\n",
              "      <th>Coffee Shop</th>\n",
              "      <td>14</td>\n",
              "    </tr>\n",
              "    <tr>\n",
              "      <th>Pizza Place</th>\n",
              "      <td>14</td>\n",
              "    </tr>\n",
              "  </tbody>\n",
              "</table>"
            ],
            "text/plain": [
              "<IPython.core.display.HTML object>"
            ]
          },
          "metadata": {
            "tags": []
          }
        },
        {
          "output_type": "stream",
          "text": [
            "None\n",
            "\n",
            "\n",
            "Most popular venues of cities: Rio de Janeiro \n",
            "\n"
          ],
          "name": "stdout"
        },
        {
          "output_type": "display_data",
          "data": {
            "text/html": [
              "<table border=\"1\" class=\"dataframe\">\n",
              "  <thead>\n",
              "    <tr style=\"text-align: right;\">\n",
              "      <th></th>\n",
              "      <th>venue category</th>\n",
              "    </tr>\n",
              "  </thead>\n",
              "  <tbody>\n",
              "    <tr>\n",
              "      <th>Coffee Shop</th>\n",
              "      <td>9</td>\n",
              "    </tr>\n",
              "    <tr>\n",
              "      <th>Bookstore</th>\n",
              "      <td>6</td>\n",
              "    </tr>\n",
              "    <tr>\n",
              "      <th>Historic Site</th>\n",
              "      <td>4</td>\n",
              "    </tr>\n",
              "    <tr>\n",
              "      <th>Church</th>\n",
              "      <td>4</td>\n",
              "    </tr>\n",
              "    <tr>\n",
              "      <th>Park</th>\n",
              "      <td>4</td>\n",
              "    </tr>\n",
              "    <tr>\n",
              "      <th>Music Venue</th>\n",
              "      <td>4</td>\n",
              "    </tr>\n",
              "    <tr>\n",
              "      <th>Art Museum</th>\n",
              "      <td>3</td>\n",
              "    </tr>\n",
              "    <tr>\n",
              "      <th>Scenic Lookout</th>\n",
              "      <td>3</td>\n",
              "    </tr>\n",
              "    <tr>\n",
              "      <th>Bar</th>\n",
              "      <td>3</td>\n",
              "    </tr>\n",
              "    <tr>\n",
              "      <th>Plaza</th>\n",
              "      <td>3</td>\n",
              "    </tr>\n",
              "  </tbody>\n",
              "</table>"
            ],
            "text/plain": [
              "<IPython.core.display.HTML object>"
            ]
          },
          "metadata": {
            "tags": []
          }
        },
        {
          "output_type": "stream",
          "text": [
            "None\n",
            "\n",
            "\n",
            "Most popular venues of cities: Acaraju \n",
            "\n"
          ],
          "name": "stdout"
        },
        {
          "output_type": "display_data",
          "data": {
            "text/html": [
              "<table border=\"1\" class=\"dataframe\">\n",
              "  <thead>\n",
              "    <tr style=\"text-align: right;\">\n",
              "      <th></th>\n",
              "      <th>venue category</th>\n",
              "    </tr>\n",
              "  </thead>\n",
              "  <tbody>\n",
              "    <tr>\n",
              "      <th>Brazilian Restaurant</th>\n",
              "      <td>14</td>\n",
              "    </tr>\n",
              "    <tr>\n",
              "      <th>Café</th>\n",
              "      <td>6</td>\n",
              "    </tr>\n",
              "    <tr>\n",
              "      <th>Japanese Restaurant</th>\n",
              "      <td>4</td>\n",
              "    </tr>\n",
              "    <tr>\n",
              "      <th>Northeastern Brazilian Restaurant</th>\n",
              "      <td>4</td>\n",
              "    </tr>\n",
              "    <tr>\n",
              "      <th>Coffee Shop</th>\n",
              "      <td>4</td>\n",
              "    </tr>\n",
              "    <tr>\n",
              "      <th>Ice Cream Shop</th>\n",
              "      <td>4</td>\n",
              "    </tr>\n",
              "    <tr>\n",
              "      <th>Bakery</th>\n",
              "      <td>4</td>\n",
              "    </tr>\n",
              "    <tr>\n",
              "      <th>Gym / Fitness Center</th>\n",
              "      <td>3</td>\n",
              "    </tr>\n",
              "    <tr>\n",
              "      <th>Pharmacy</th>\n",
              "      <td>3</td>\n",
              "    </tr>\n",
              "    <tr>\n",
              "      <th>Park</th>\n",
              "      <td>3</td>\n",
              "    </tr>\n",
              "  </tbody>\n",
              "</table>"
            ],
            "text/plain": [
              "<IPython.core.display.HTML object>"
            ]
          },
          "metadata": {
            "tags": []
          }
        },
        {
          "output_type": "stream",
          "text": [
            "None\n",
            "\n",
            "\n",
            "Most popular venues of cities: Porto Alegre, Curitiba, Vitoria \n",
            "\n"
          ],
          "name": "stdout"
        },
        {
          "output_type": "display_data",
          "data": {
            "text/html": [
              "<table border=\"1\" class=\"dataframe\">\n",
              "  <thead>\n",
              "    <tr style=\"text-align: right;\">\n",
              "      <th></th>\n",
              "      <th>venue category</th>\n",
              "    </tr>\n",
              "  </thead>\n",
              "  <tbody>\n",
              "    <tr>\n",
              "      <th>Hotel</th>\n",
              "      <td>15</td>\n",
              "    </tr>\n",
              "    <tr>\n",
              "      <th>Coffee Shop</th>\n",
              "      <td>14</td>\n",
              "    </tr>\n",
              "    <tr>\n",
              "      <th>Pizza Place</th>\n",
              "      <td>13</td>\n",
              "    </tr>\n",
              "    <tr>\n",
              "      <th>Italian Restaurant</th>\n",
              "      <td>13</td>\n",
              "    </tr>\n",
              "    <tr>\n",
              "      <th>Gym / Fitness Center</th>\n",
              "      <td>10</td>\n",
              "    </tr>\n",
              "    <tr>\n",
              "      <th>Café</th>\n",
              "      <td>9</td>\n",
              "    </tr>\n",
              "    <tr>\n",
              "      <th>Burger Joint</th>\n",
              "      <td>8</td>\n",
              "    </tr>\n",
              "    <tr>\n",
              "      <th>Brazilian Restaurant</th>\n",
              "      <td>7</td>\n",
              "    </tr>\n",
              "    <tr>\n",
              "      <th>Ice Cream Shop</th>\n",
              "      <td>6</td>\n",
              "    </tr>\n",
              "    <tr>\n",
              "      <th>Vegetarian / Vegan Restaurant</th>\n",
              "      <td>6</td>\n",
              "    </tr>\n",
              "  </tbody>\n",
              "</table>"
            ],
            "text/plain": [
              "<IPython.core.display.HTML object>"
            ]
          },
          "metadata": {
            "tags": []
          }
        },
        {
          "output_type": "stream",
          "text": [
            "None\n",
            "\n",
            "\n"
          ],
          "name": "stdout"
        }
      ]
    },
    {
      "cell_type": "markdown",
      "metadata": {
        "id": "AoZ618_pTy3L",
        "colab_type": "text"
      },
      "source": [
        "Again, with these results we can see interesting results. For example, `Brazilian Restaurant` seems the most popular venue type in most clusters, but not in Rio de Janeiro cluster, that is well-known a famous touristic city and, then, has more venues related to cultural activities."
      ]
    },
    {
      "cell_type": "markdown",
      "metadata": {
        "id": "gktFkYJBUgyV",
        "colab_type": "text"
      },
      "source": [
        "Finally, we will create a map that will show us each city and cluster (by color):"
      ]
    },
    {
      "cell_type": "code",
      "metadata": {
        "id": "fBBWLFbfgBTY",
        "colab_type": "code",
        "colab": {}
      },
      "source": [
        "import matplotlib.cm as cm\n",
        "import matplotlib.colors as colors"
      ],
      "execution_count": 0,
      "outputs": []
    },
    {
      "cell_type": "code",
      "metadata": {
        "id": "QNwBODUvgDrf",
        "colab_type": "code",
        "outputId": "e4c87eae-32cd-4ab2-869f-86086396e2e1",
        "colab": {
          "base_uri": "https://localhost:8080/",
          "height": 703
        }
      },
      "source": [
        "# create map\n",
        "map_clusters = folium.Map(location=[-15.724072, -49.437987], zoom_start=4)\n",
        "\n",
        "# set color scheme for the clusters\n",
        "x = np.arange(12)\n",
        "ys = [i + x + (i*x)**2 for i in range(12)]\n",
        "colors_array = cm.rainbow(np.linspace(0, 1, len(ys)))\n",
        "rainbow = [colors.rgb2hex(i) for i in colors_array]\n",
        "\n",
        "# add markers to the map\n",
        "markers_colors = []\n",
        "for lat, lon, poi, cluster in zip(df_analysis['latitude'], \n",
        "                                  df_analysis['longitude'], \n",
        "                                  df_analysis['city'],\n",
        "                                  df_analysis['cluster']):\n",
        "    label = folium.Popup(str(poi) + ' Cluster ' + str(cluster), parse_html=True)\n",
        "    folium.CircleMarker(\n",
        "        [lat, lon],\n",
        "        radius=5,\n",
        "        popup=label,\n",
        "        color=rainbow[cluster-1],\n",
        "        fill=True,\n",
        "        fill_color=rainbow[cluster-1],\n",
        "        fill_opacity=0.7).add_to(map_clusters)\n",
        "       \n",
        "map_clusters"
      ],
      "execution_count": 94,
      "outputs": [
        {
          "output_type": "execute_result",
          "data": {
            "text/html": [
              "<div style=\"width:100%;\"><div style=\"position:relative;width:100%;height:0;padding-bottom:60%;\"><iframe src=\"data:text/html;charset=utf-8;base64,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\" style=\"position:absolute;width:100%;height:100%;left:0;top:0;border:none !important;\" allowfullscreen webkitallowfullscreen mozallowfullscreen></iframe></div></div>"
            ],
            "text/plain": [
              "<folium.folium.Map at 0x7fdd13553e48>"
            ]
          },
          "metadata": {
            "tags": []
          },
          "execution_count": 94
        }
      ]
    },
    {
      "cell_type": "markdown",
      "metadata": {
        "id": "pv-E1tJeUvLb",
        "colab_type": "text"
      },
      "source": [
        "We can see, again, above that cities that are geographically closer tends to belong to the same cluster. This is an expected behavior as the cultural exchange between cities is stronger when the distance is shorter."
      ]
    },
    {
      "cell_type": "markdown",
      "metadata": {
        "id": "06r2sT52VMdD",
        "colab_type": "text"
      },
      "source": [
        "## Conclusion <a name=\"conclusion\"></a>"
      ]
    },
    {
      "cell_type": "markdown",
      "metadata": {
        "id": "nyEJZWLmVMi6",
        "colab_type": "text"
      },
      "source": [
        "This work succesfully identified clusters of cities that can be considered to be similar. One argument to support the cluster efficiency is the fact cities in the same region generally belong to the same cluster (even though we didn't use any distance metric in our analysis, only venue types). The work could also identify which types of venues are more popular in each cluster and find interesting patterns, for example, cities that had a big influx of Italian immigrants (Brazil' South cities like Curitiba and Porto Alegre) have a high number of Italian Restaurants, while `Seafood Restaurant` is more popular in cities that have famous beaches (Maceio and Joao Pessoa) and Rio de Janeiro looks a unique city (with its own cluster) as it's city known for several touristic attractions. Therefore, this work could help business to have a better understanding of the Brazilian market in the capital cities, potentially improving the expansion/growth strategy."
      ]
    },
    {
      "cell_type": "code",
      "metadata": {
        "id": "4jg_yP2TVJJU",
        "colab_type": "code",
        "colab": {}
      },
      "source": [
        ""
      ],
      "execution_count": 0,
      "outputs": []
    }
  ]
}