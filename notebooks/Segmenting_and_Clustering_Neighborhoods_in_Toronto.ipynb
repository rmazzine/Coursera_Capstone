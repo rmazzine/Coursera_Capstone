{
  "nbformat": 4,
  "nbformat_minor": 0,
  "metadata": {
    "colab": {
      "name": "Segmenting and Clustering Neighborhoods in Toronto.ipynb",
      "provenance": [],
      "collapsed_sections": []
    },
    "kernelspec": {
      "name": "python3",
      "display_name": "Python 3"
    },
    "widgets": {
      "application/vnd.jupyter.widget-state+json": {
        "19bf07e032c44c5289f777df03583515": {
          "model_module": "@jupyter-widgets/controls",
          "model_name": "IntProgressModel",
          "state": {
            "_view_name": "ProgressView",
            "style": "IPY_MODEL_fd9dd865efba479ebfc34590968a504f",
            "_dom_classes": [],
            "description": "",
            "_model_name": "IntProgressModel",
            "bar_style": "",
            "max": 19,
            "_view_module": "@jupyter-widgets/controls",
            "_model_module_version": "1.5.0",
            "value": 19,
            "_view_count": null,
            "_view_module_version": "1.5.0",
            "orientation": "horizontal",
            "min": 0,
            "description_tooltip": null,
            "_model_module": "@jupyter-widgets/controls",
            "layout": "IPY_MODEL_d5471765043844f7b3bf606d72957523"
          }
        },
        "fd9dd865efba479ebfc34590968a504f": {
          "model_module": "@jupyter-widgets/controls",
          "model_name": "ProgressStyleModel",
          "state": {
            "_view_name": "StyleView",
            "_model_name": "ProgressStyleModel",
            "description_width": "",
            "_view_module": "@jupyter-widgets/base",
            "_model_module_version": "1.5.0",
            "_view_count": null,
            "_view_module_version": "1.2.0",
            "bar_color": null,
            "_model_module": "@jupyter-widgets/controls"
          }
        },
        "d5471765043844f7b3bf606d72957523": {
          "model_module": "@jupyter-widgets/base",
          "model_name": "LayoutModel",
          "state": {
            "_view_name": "LayoutView",
            "grid_template_rows": null,
            "right": null,
            "justify_content": null,
            "_view_module": "@jupyter-widgets/base",
            "overflow": null,
            "_model_module_version": "1.2.0",
            "_view_count": null,
            "flex_flow": null,
            "width": null,
            "min_width": null,
            "border": null,
            "align_items": null,
            "bottom": null,
            "_model_module": "@jupyter-widgets/base",
            "top": null,
            "grid_column": null,
            "overflow_y": null,
            "overflow_x": null,
            "grid_auto_flow": null,
            "grid_area": null,
            "grid_template_columns": null,
            "flex": null,
            "_model_name": "LayoutModel",
            "justify_items": null,
            "grid_row": null,
            "max_height": null,
            "align_content": null,
            "visibility": null,
            "align_self": null,
            "height": null,
            "min_height": null,
            "padding": null,
            "grid_auto_rows": null,
            "grid_gap": null,
            "max_width": null,
            "order": null,
            "_view_module_version": "1.2.0",
            "grid_template_areas": null,
            "object_position": null,
            "object_fit": null,
            "grid_auto_columns": null,
            "margin": null,
            "display": null,
            "left": null
          }
        }
      }
    }
  },
  "cells": [
    {
      "cell_type": "markdown",
      "metadata": {
        "id": "5puGeLQePFGs",
        "colab_type": "text"
      },
      "source": [
        "# Assignment - Segmenting and Clustering Neighborhoods in Toronto"
      ]
    },
    {
      "cell_type": "markdown",
      "metadata": {
        "id": "xfK7fHYYPPhj",
        "colab_type": "text"
      },
      "source": [
        "## 1 - Get and create a Pandas DataFrame containing Neighbourhood and PostalCode information"
      ]
    },
    {
      "cell_type": "code",
      "metadata": {
        "id": "pBNLPb1IPD32",
        "colab_type": "code",
        "colab": {}
      },
      "source": [
        "import pandas as pd"
      ],
      "execution_count": 0,
      "outputs": []
    },
    {
      "cell_type": "markdown",
      "metadata": {
        "id": "0YDiOGw-Pbzz",
        "colab_type": "text"
      },
      "source": [
        "Let's get the datasets from the Wiki page"
      ]
    },
    {
      "cell_type": "code",
      "metadata": {
        "id": "jQkdOTTmBbxp",
        "colab_type": "code",
        "colab": {}
      },
      "source": [
        "df_toronto = pd.read_html('https://en.wikipedia.org/wiki/List_of_postal_codes_of_Canada:_M')"
      ],
      "execution_count": 0,
      "outputs": []
    },
    {
      "cell_type": "code",
      "metadata": {
        "id": "22_HXcSbBf6Y",
        "colab_type": "code",
        "outputId": "5a61f77a-b680-4130-fff9-a751fb225dc5",
        "colab": {
          "base_uri": "https://localhost:8080/",
          "height": 425
        }
      },
      "source": [
        "df_toronto"
      ],
      "execution_count": 3,
      "outputs": [
        {
          "output_type": "execute_result",
          "data": {
            "text/plain": [
              "[    Postcode           Borough          Neighbourhood\n",
              " 0        M1A      Not assigned           Not assigned\n",
              " 1        M2A      Not assigned           Not assigned\n",
              " 2        M3A        North York              Parkwoods\n",
              " 3        M4A        North York       Victoria Village\n",
              " 4        M5A  Downtown Toronto           Harbourfront\n",
              " ..       ...               ...                    ...\n",
              " 282      M8Z         Etobicoke              Mimico NW\n",
              " 283      M8Z         Etobicoke     The Queensway West\n",
              " 284      M8Z         Etobicoke  Royal York South West\n",
              " 285      M8Z         Etobicoke         South of Bloor\n",
              " 286      M9Z      Not assigned           Not assigned\n",
              " \n",
              " [287 rows x 3 columns],\n",
              "                                                   0   ...   17\n",
              " 0                                                NaN  ...  NaN\n",
              " 1  NL NS PE NB QC ON MB SK AB BC NU/NT YT A B C E...  ...  NaN\n",
              " 2                                                 NL  ...   YT\n",
              " 3                                                  A  ...    Y\n",
              " \n",
              " [4 rows x 18 columns],\n",
              "    0   1   2   3   4   5   6   7   8   9   10  11  12  13  14  15     16  17\n",
              " 0  NL  NS  PE  NB  QC  QC  QC  ON  ON  ON  ON  ON  MB  SK  AB  BC  NU/NT  YT\n",
              " 1   A   B   C   E   G   H   J   K   L   M   N   P   R   S   T   V      X   Y]"
            ]
          },
          "metadata": {
            "tags": []
          },
          "execution_count": 3
        }
      ]
    },
    {
      "cell_type": "markdown",
      "metadata": {
        "id": "xinWmGQbso78",
        "colab_type": "text"
      },
      "source": [
        "Get our desired dataset (the first one, that has the PostalCodes)"
      ]
    },
    {
      "cell_type": "code",
      "metadata": {
        "id": "9qpcLgUQBg4g",
        "colab_type": "code",
        "colab": {}
      },
      "source": [
        "df_toronto = df_toronto[0]"
      ],
      "execution_count": 0,
      "outputs": []
    },
    {
      "cell_type": "markdown",
      "metadata": {
        "id": "jmpsPlIcswmR",
        "colab_type": "text"
      },
      "source": [
        "Remove all rows that do not have a Borough (Not assigned)"
      ]
    },
    {
      "cell_type": "code",
      "metadata": {
        "id": "fvMeg9Skomj3",
        "colab_type": "code",
        "colab": {}
      },
      "source": [
        "df_toronto = df_toronto[df_toronto['Borough'] != 'Not assigned']"
      ],
      "execution_count": 0,
      "outputs": []
    },
    {
      "cell_type": "markdown",
      "metadata": {
        "id": "92Va1-Vos2O6",
        "colab_type": "text"
      },
      "source": [
        "When a neighbourhood is not assigned, it must be the same as the Borough. *Despite the warning, the code works.*"
      ]
    },
    {
      "cell_type": "code",
      "metadata": {
        "id": "zZ7fYAWXrrYb",
        "colab_type": "code",
        "colab": {
          "base_uri": "https://localhost:8080/",
          "height": 207
        },
        "outputId": "0bba4b7e-fb6b-40c5-e9a0-407906397275"
      },
      "source": [
        "df_toronto.loc[df_toronto['Neighbourhood'] == 'Not assigned', 'Neighbourhood'] = df_toronto[df_toronto['Neighbourhood'] == 'Not assigned']['Borough']"
      ],
      "execution_count": 6,
      "outputs": [
        {
          "output_type": "stream",
          "text": [
            "/usr/local/lib/python3.6/dist-packages/pandas/core/indexing.py:205: SettingWithCopyWarning: \n",
            "A value is trying to be set on a copy of a slice from a DataFrame\n",
            "\n",
            "See the caveats in the documentation: http://pandas.pydata.org/pandas-docs/stable/user_guide/indexing.html#returning-a-view-versus-a-copy\n",
            "  self._setitem_with_indexer(indexer, value)\n",
            "/usr/local/lib/python3.6/dist-packages/ipykernel_launcher.py:1: SettingWithCopyWarning: \n",
            "A value is trying to be set on a copy of a slice from a DataFrame\n",
            "\n",
            "See the caveats in the documentation: http://pandas.pydata.org/pandas-docs/stable/user_guide/indexing.html#returning-a-view-versus-a-copy\n",
            "  \"\"\"Entry point for launching an IPython kernel.\n"
          ],
          "name": "stderr"
        }
      ]
    },
    {
      "cell_type": "markdown",
      "metadata": {
        "id": "pOOQsrijtabR",
        "colab_type": "text"
      },
      "source": [
        "Create a Series with grouped neighbourhoods (unique, this is why I used set and not list), separated by a comma"
      ]
    },
    {
      "cell_type": "code",
      "metadata": {
        "id": "EwnV6SfEBi7g",
        "colab_type": "code",
        "colab": {}
      },
      "source": [
        "group_neigh = df_toronto[['Postcode', 'Neighbourhood']].groupby('Postcode')['Neighbourhood'].apply(set).apply(lambda x : ', '.join(x))"
      ],
      "execution_count": 0,
      "outputs": []
    },
    {
      "cell_type": "code",
      "metadata": {
        "id": "FPsCXb_Guaue",
        "colab_type": "code",
        "colab": {
          "base_uri": "https://localhost:8080/",
          "height": 238
        },
        "outputId": "ddba1e5d-0312-43e7-b300-665ba84a1153"
      },
      "source": [
        "group_neigh"
      ],
      "execution_count": 8,
      "outputs": [
        {
          "output_type": "execute_result",
          "data": {
            "text/plain": [
              "Postcode\n",
              "M1B                                       Rouge, Malvern\n",
              "M1C               Port Union, Highland Creek, Rouge Hill\n",
              "M1E                    Guildwood, Morningside, West Hill\n",
              "M1G                                               Woburn\n",
              "M1H                                            Cedarbrae\n",
              "                             ...                        \n",
              "M9N                                               Weston\n",
              "M9P                                            Westmount\n",
              "M9R    St. Phillips, Martin Grove Gardens, Richview G...\n",
              "M9V    Mount Olive, South Steeles, Albion Gardens, Be...\n",
              "M9W                                            Northwest\n",
              "Name: Neighbourhood, Length: 103, dtype: object"
            ]
          },
          "metadata": {
            "tags": []
          },
          "execution_count": 8
        }
      ]
    },
    {
      "cell_type": "markdown",
      "metadata": {
        "id": "tL-46Cw7uBE3",
        "colab_type": "text"
      },
      "source": [
        "Create the similar as above, but for boroughs"
      ]
    },
    {
      "cell_type": "code",
      "metadata": {
        "id": "a5jwFRgZBqJY",
        "colab_type": "code",
        "colab": {}
      },
      "source": [
        "group_boroughs = df_toronto[['Postcode', 'Borough']].groupby('Postcode')['Borough'].apply(set).apply(lambda x : ', '.join(x))"
      ],
      "execution_count": 0,
      "outputs": []
    },
    {
      "cell_type": "code",
      "metadata": {
        "id": "nhWE9XD_EVnu",
        "colab_type": "code",
        "colab": {
          "base_uri": "https://localhost:8080/",
          "height": 238
        },
        "outputId": "a47d3b56-c56f-4d5e-e282-bdcf09feba6b"
      },
      "source": [
        "group_boroughs"
      ],
      "execution_count": 10,
      "outputs": [
        {
          "output_type": "execute_result",
          "data": {
            "text/plain": [
              "Postcode\n",
              "M1B    Scarborough\n",
              "M1C    Scarborough\n",
              "M1E    Scarborough\n",
              "M1G    Scarborough\n",
              "M1H    Scarborough\n",
              "          ...     \n",
              "M9N           York\n",
              "M9P      Etobicoke\n",
              "M9R      Etobicoke\n",
              "M9V      Etobicoke\n",
              "M9W      Etobicoke\n",
              "Name: Borough, Length: 103, dtype: object"
            ]
          },
          "metadata": {
            "tags": []
          },
          "execution_count": 10
        }
      ]
    },
    {
      "cell_type": "markdown",
      "metadata": {
        "id": "amAM2wF2u--I",
        "colab_type": "text"
      },
      "source": [
        "Create a DataFrame with the grouped information, it must be transposed (T) because without it, the columns will be the PostalCodes. Fix the name of PostalCodes too by renaming it. And the index was reseted to be the same structure as the example."
      ]
    },
    {
      "cell_type": "code",
      "metadata": {
        "id": "cbrT4JwUuPN9",
        "colab_type": "code",
        "colab": {}
      },
      "source": [
        "df_toronto_clean = pd.DataFrame([group_boroughs, group_neigh]).T.reset_index().rename(columns={'Postcode': 'PostalCode'})"
      ],
      "execution_count": 0,
      "outputs": []
    },
    {
      "cell_type": "code",
      "metadata": {
        "id": "Xg8CLDQduyAC",
        "colab_type": "code",
        "colab": {
          "base_uri": "https://localhost:8080/",
          "height": 419
        },
        "outputId": "a9cbb874-d234-41ed-e048-60e0df5c2f4f"
      },
      "source": [
        "df_toronto_clean"
      ],
      "execution_count": 12,
      "outputs": [
        {
          "output_type": "execute_result",
          "data": {
            "text/html": [
              "<div>\n",
              "<style scoped>\n",
              "    .dataframe tbody tr th:only-of-type {\n",
              "        vertical-align: middle;\n",
              "    }\n",
              "\n",
              "    .dataframe tbody tr th {\n",
              "        vertical-align: top;\n",
              "    }\n",
              "\n",
              "    .dataframe thead th {\n",
              "        text-align: right;\n",
              "    }\n",
              "</style>\n",
              "<table border=\"1\" class=\"dataframe\">\n",
              "  <thead>\n",
              "    <tr style=\"text-align: right;\">\n",
              "      <th></th>\n",
              "      <th>PostalCode</th>\n",
              "      <th>Borough</th>\n",
              "      <th>Neighbourhood</th>\n",
              "    </tr>\n",
              "  </thead>\n",
              "  <tbody>\n",
              "    <tr>\n",
              "      <th>0</th>\n",
              "      <td>M1B</td>\n",
              "      <td>Scarborough</td>\n",
              "      <td>Rouge, Malvern</td>\n",
              "    </tr>\n",
              "    <tr>\n",
              "      <th>1</th>\n",
              "      <td>M1C</td>\n",
              "      <td>Scarborough</td>\n",
              "      <td>Port Union, Highland Creek, Rouge Hill</td>\n",
              "    </tr>\n",
              "    <tr>\n",
              "      <th>2</th>\n",
              "      <td>M1E</td>\n",
              "      <td>Scarborough</td>\n",
              "      <td>Guildwood, Morningside, West Hill</td>\n",
              "    </tr>\n",
              "    <tr>\n",
              "      <th>3</th>\n",
              "      <td>M1G</td>\n",
              "      <td>Scarborough</td>\n",
              "      <td>Woburn</td>\n",
              "    </tr>\n",
              "    <tr>\n",
              "      <th>4</th>\n",
              "      <td>M1H</td>\n",
              "      <td>Scarborough</td>\n",
              "      <td>Cedarbrae</td>\n",
              "    </tr>\n",
              "    <tr>\n",
              "      <th>...</th>\n",
              "      <td>...</td>\n",
              "      <td>...</td>\n",
              "      <td>...</td>\n",
              "    </tr>\n",
              "    <tr>\n",
              "      <th>98</th>\n",
              "      <td>M9N</td>\n",
              "      <td>York</td>\n",
              "      <td>Weston</td>\n",
              "    </tr>\n",
              "    <tr>\n",
              "      <th>99</th>\n",
              "      <td>M9P</td>\n",
              "      <td>Etobicoke</td>\n",
              "      <td>Westmount</td>\n",
              "    </tr>\n",
              "    <tr>\n",
              "      <th>100</th>\n",
              "      <td>M9R</td>\n",
              "      <td>Etobicoke</td>\n",
              "      <td>St. Phillips, Martin Grove Gardens, Richview G...</td>\n",
              "    </tr>\n",
              "    <tr>\n",
              "      <th>101</th>\n",
              "      <td>M9V</td>\n",
              "      <td>Etobicoke</td>\n",
              "      <td>Mount Olive, South Steeles, Albion Gardens, Be...</td>\n",
              "    </tr>\n",
              "    <tr>\n",
              "      <th>102</th>\n",
              "      <td>M9W</td>\n",
              "      <td>Etobicoke</td>\n",
              "      <td>Northwest</td>\n",
              "    </tr>\n",
              "  </tbody>\n",
              "</table>\n",
              "<p>103 rows × 3 columns</p>\n",
              "</div>"
            ],
            "text/plain": [
              "    PostalCode      Borough                                      Neighbourhood\n",
              "0          M1B  Scarborough                                     Rouge, Malvern\n",
              "1          M1C  Scarborough             Port Union, Highland Creek, Rouge Hill\n",
              "2          M1E  Scarborough                  Guildwood, Morningside, West Hill\n",
              "3          M1G  Scarborough                                             Woburn\n",
              "4          M1H  Scarborough                                          Cedarbrae\n",
              "..         ...          ...                                                ...\n",
              "98         M9N         York                                             Weston\n",
              "99         M9P    Etobicoke                                          Westmount\n",
              "100        M9R    Etobicoke  St. Phillips, Martin Grove Gardens, Richview G...\n",
              "101        M9V    Etobicoke  Mount Olive, South Steeles, Albion Gardens, Be...\n",
              "102        M9W    Etobicoke                                          Northwest\n",
              "\n",
              "[103 rows x 3 columns]"
            ]
          },
          "metadata": {
            "tags": []
          },
          "execution_count": 12
        }
      ]
    },
    {
      "cell_type": "code",
      "metadata": {
        "id": "jRKLxWREvQtc",
        "colab_type": "code",
        "colab": {
          "base_uri": "https://localhost:8080/",
          "height": 34
        },
        "outputId": "8bd8c338-fdfa-4d74-8904-7b96e3bdd115"
      },
      "source": [
        "df_toronto_clean.shape"
      ],
      "execution_count": 13,
      "outputs": [
        {
          "output_type": "execute_result",
          "data": {
            "text/plain": [
              "(103, 3)"
            ]
          },
          "metadata": {
            "tags": []
          },
          "execution_count": 13
        }
      ]
    },
    {
      "cell_type": "markdown",
      "metadata": {
        "id": "ix-AgJD7PpSD",
        "colab_type": "text"
      },
      "source": [
        "## 2 - Merge Neighbourhood information with Geospatial data (longitude, latitude)"
      ]
    },
    {
      "cell_type": "markdown",
      "metadata": {
        "id": "f-RxR17BxOwz",
        "colab_type": "text"
      },
      "source": [
        "As the Google API did not work well, I used the CSV data."
      ]
    },
    {
      "cell_type": "code",
      "metadata": {
        "id": "7DShocpdwET4",
        "colab_type": "code",
        "colab": {}
      },
      "source": [
        "df_geo_coord = pd.read_csv('Geospatial_Coordinates.csv')"
      ],
      "execution_count": 0,
      "outputs": []
    },
    {
      "cell_type": "code",
      "metadata": {
        "id": "80VnwneOwEjk",
        "colab_type": "code",
        "colab": {}
      },
      "source": [
        "df_geo_coord = df_geo_coord.rename(columns={'Postal Code': 'PostalCode'})"
      ],
      "execution_count": 0,
      "outputs": []
    },
    {
      "cell_type": "code",
      "metadata": {
        "id": "qUqullahx9p-",
        "colab_type": "code",
        "colab": {
          "base_uri": "https://localhost:8080/",
          "height": 419
        },
        "outputId": "633ff2f0-c2fb-40e6-f355-ad80250a6c52"
      },
      "source": [
        "df_geo_coord"
      ],
      "execution_count": 16,
      "outputs": [
        {
          "output_type": "execute_result",
          "data": {
            "text/html": [
              "<div>\n",
              "<style scoped>\n",
              "    .dataframe tbody tr th:only-of-type {\n",
              "        vertical-align: middle;\n",
              "    }\n",
              "\n",
              "    .dataframe tbody tr th {\n",
              "        vertical-align: top;\n",
              "    }\n",
              "\n",
              "    .dataframe thead th {\n",
              "        text-align: right;\n",
              "    }\n",
              "</style>\n",
              "<table border=\"1\" class=\"dataframe\">\n",
              "  <thead>\n",
              "    <tr style=\"text-align: right;\">\n",
              "      <th></th>\n",
              "      <th>PostalCode</th>\n",
              "      <th>Latitude</th>\n",
              "      <th>Longitude</th>\n",
              "    </tr>\n",
              "  </thead>\n",
              "  <tbody>\n",
              "    <tr>\n",
              "      <th>0</th>\n",
              "      <td>M1B</td>\n",
              "      <td>43.806686</td>\n",
              "      <td>-79.194353</td>\n",
              "    </tr>\n",
              "    <tr>\n",
              "      <th>1</th>\n",
              "      <td>M1C</td>\n",
              "      <td>43.784535</td>\n",
              "      <td>-79.160497</td>\n",
              "    </tr>\n",
              "    <tr>\n",
              "      <th>2</th>\n",
              "      <td>M1E</td>\n",
              "      <td>43.763573</td>\n",
              "      <td>-79.188711</td>\n",
              "    </tr>\n",
              "    <tr>\n",
              "      <th>3</th>\n",
              "      <td>M1G</td>\n",
              "      <td>43.770992</td>\n",
              "      <td>-79.216917</td>\n",
              "    </tr>\n",
              "    <tr>\n",
              "      <th>4</th>\n",
              "      <td>M1H</td>\n",
              "      <td>43.773136</td>\n",
              "      <td>-79.239476</td>\n",
              "    </tr>\n",
              "    <tr>\n",
              "      <th>...</th>\n",
              "      <td>...</td>\n",
              "      <td>...</td>\n",
              "      <td>...</td>\n",
              "    </tr>\n",
              "    <tr>\n",
              "      <th>98</th>\n",
              "      <td>M9N</td>\n",
              "      <td>43.706876</td>\n",
              "      <td>-79.518188</td>\n",
              "    </tr>\n",
              "    <tr>\n",
              "      <th>99</th>\n",
              "      <td>M9P</td>\n",
              "      <td>43.696319</td>\n",
              "      <td>-79.532242</td>\n",
              "    </tr>\n",
              "    <tr>\n",
              "      <th>100</th>\n",
              "      <td>M9R</td>\n",
              "      <td>43.688905</td>\n",
              "      <td>-79.554724</td>\n",
              "    </tr>\n",
              "    <tr>\n",
              "      <th>101</th>\n",
              "      <td>M9V</td>\n",
              "      <td>43.739416</td>\n",
              "      <td>-79.588437</td>\n",
              "    </tr>\n",
              "    <tr>\n",
              "      <th>102</th>\n",
              "      <td>M9W</td>\n",
              "      <td>43.706748</td>\n",
              "      <td>-79.594054</td>\n",
              "    </tr>\n",
              "  </tbody>\n",
              "</table>\n",
              "<p>103 rows × 3 columns</p>\n",
              "</div>"
            ],
            "text/plain": [
              "    PostalCode   Latitude  Longitude\n",
              "0          M1B  43.806686 -79.194353\n",
              "1          M1C  43.784535 -79.160497\n",
              "2          M1E  43.763573 -79.188711\n",
              "3          M1G  43.770992 -79.216917\n",
              "4          M1H  43.773136 -79.239476\n",
              "..         ...        ...        ...\n",
              "98         M9N  43.706876 -79.518188\n",
              "99         M9P  43.696319 -79.532242\n",
              "100        M9R  43.688905 -79.554724\n",
              "101        M9V  43.739416 -79.588437\n",
              "102        M9W  43.706748 -79.594054\n",
              "\n",
              "[103 rows x 3 columns]"
            ]
          },
          "metadata": {
            "tags": []
          },
          "execution_count": 16
        }
      ]
    },
    {
      "cell_type": "markdown",
      "metadata": {
        "id": "R7hkg3WExWT3",
        "colab_type": "text"
      },
      "source": [
        "Now, merge the Latitude and Longitude data with our previous created dataset."
      ]
    },
    {
      "cell_type": "code",
      "metadata": {
        "id": "ZCzuqaf7wEoO",
        "colab_type": "code",
        "colab": {}
      },
      "source": [
        "df_toronto_clean = df_toronto_clean.merge(df_geo_coord, on='PostalCode')"
      ],
      "execution_count": 0,
      "outputs": []
    },
    {
      "cell_type": "code",
      "metadata": {
        "id": "3uj9QgB8vp3b",
        "colab_type": "code",
        "colab": {
          "base_uri": "https://localhost:8080/",
          "height": 221
        },
        "outputId": "9397a041-f05e-41e7-f1b3-ef2fd4eeec4c"
      },
      "source": [
        "df_toronto_clean['Borough'].value_counts(dropna=False)"
      ],
      "execution_count": 18,
      "outputs": [
        {
          "output_type": "execute_result",
          "data": {
            "text/plain": [
              "North York          24\n",
              "Downtown Toronto    19\n",
              "Scarborough         17\n",
              "Etobicoke           11\n",
              "Central Toronto      9\n",
              "West Toronto         6\n",
              "York                 5\n",
              "East Toronto         5\n",
              "East York            5\n",
              "Mississauga          1\n",
              "Queen's Park         1\n",
              "Name: Borough, dtype: int64"
            ]
          },
          "metadata": {
            "tags": []
          },
          "execution_count": 18
        }
      ]
    },
    {
      "cell_type": "markdown",
      "metadata": {
        "id": "RKzgNS_vP3MX",
        "colab_type": "text"
      },
      "source": [
        "## 3 - Select Borough, get information about each place on Foursquare API, create clusters and show them in a map"
      ]
    },
    {
      "cell_type": "markdown",
      "metadata": {
        "id": "-P9ehtxhQZmb",
        "colab_type": "text"
      },
      "source": [
        "First, let's install our requirements"
      ]
    },
    {
      "cell_type": "code",
      "metadata": {
        "id": "_aIDU8fDzwq6",
        "colab_type": "code",
        "colab": {
          "base_uri": "https://localhost:8080/",
          "height": 428
        },
        "outputId": "acbf9878-ec4f-461b-bc3b-3f5dc0dd2bf6"
      },
      "source": [
        "!pip install folium==0.5.0"
      ],
      "execution_count": 19,
      "outputs": [
        {
          "output_type": "stream",
          "text": [
            "Collecting folium==0.5.0\n",
            "\u001b[?25l  Downloading https://files.pythonhosted.org/packages/07/37/456fb3699ed23caa0011f8b90d9cad94445eddc656b601e6268090de35f5/folium-0.5.0.tar.gz (79kB)\n",
            "\r\u001b[K     |████▏                           | 10kB 21.3MB/s eta 0:00:01\r\u001b[K     |████████▎                       | 20kB 1.8MB/s eta 0:00:01\r\u001b[K     |████████████▍                   | 30kB 2.6MB/s eta 0:00:01\r\u001b[K     |████████████████▌               | 40kB 1.7MB/s eta 0:00:01\r\u001b[K     |████████████████████▊           | 51kB 2.1MB/s eta 0:00:01\r\u001b[K     |████████████████████████▉       | 61kB 2.5MB/s eta 0:00:01\r\u001b[K     |█████████████████████████████   | 71kB 2.9MB/s eta 0:00:01\r\u001b[K     |████████████████████████████████| 81kB 2.6MB/s \n",
            "\u001b[?25hRequirement already satisfied: branca in /usr/local/lib/python3.6/dist-packages (from folium==0.5.0) (0.3.1)\n",
            "Requirement already satisfied: jinja2 in /usr/local/lib/python3.6/dist-packages (from folium==0.5.0) (2.10.3)\n",
            "Requirement already satisfied: requests in /usr/local/lib/python3.6/dist-packages (from folium==0.5.0) (2.21.0)\n",
            "Requirement already satisfied: six in /usr/local/lib/python3.6/dist-packages (from folium==0.5.0) (1.12.0)\n",
            "Requirement already satisfied: MarkupSafe>=0.23 in /usr/local/lib/python3.6/dist-packages (from jinja2->folium==0.5.0) (1.1.1)\n",
            "Requirement already satisfied: chardet<3.1.0,>=3.0.2 in /usr/local/lib/python3.6/dist-packages (from requests->folium==0.5.0) (3.0.4)\n",
            "Requirement already satisfied: urllib3<1.25,>=1.21.1 in /usr/local/lib/python3.6/dist-packages (from requests->folium==0.5.0) (1.24.3)\n",
            "Requirement already satisfied: idna<2.9,>=2.5 in /usr/local/lib/python3.6/dist-packages (from requests->folium==0.5.0) (2.8)\n",
            "Requirement already satisfied: certifi>=2017.4.17 in /usr/local/lib/python3.6/dist-packages (from requests->folium==0.5.0) (2019.11.28)\n",
            "Building wheels for collected packages: folium\n",
            "  Building wheel for folium (setup.py) ... \u001b[?25l\u001b[?25hdone\n",
            "  Created wheel for folium: filename=folium-0.5.0-cp36-none-any.whl size=76240 sha256=fd95971d8eee4d678ea819ee241562c96de4a07cd0687ba711c2ff7a65893677\n",
            "  Stored in directory: /root/.cache/pip/wheels/f8/98/ff/954791afc47740d554f0d9e5885fa09dd60c2265d42578e665\n",
            "Successfully built folium\n",
            "\u001b[31mERROR: datascience 0.10.6 has requirement folium==0.2.1, but you'll have folium 0.5.0 which is incompatible.\u001b[0m\n",
            "Installing collected packages: folium\n",
            "  Found existing installation: folium 0.8.3\n",
            "    Uninstalling folium-0.8.3:\n",
            "      Successfully uninstalled folium-0.8.3\n",
            "Successfully installed folium-0.5.0\n"
          ],
          "name": "stdout"
        }
      ]
    },
    {
      "cell_type": "markdown",
      "metadata": {
        "id": "y2X5YvMbQfPu",
        "colab_type": "text"
      },
      "source": [
        "And then, import the requested packages"
      ]
    },
    {
      "cell_type": "code",
      "metadata": {
        "id": "1XsbhrOCz6UZ",
        "colab_type": "code",
        "colab": {}
      },
      "source": [
        "import folium\n",
        "import time\n",
        "import numpy as np\n",
        "import requests\n",
        "from ipywidgets import IntProgress\n",
        "from IPython.display import display"
      ],
      "execution_count": 0,
      "outputs": []
    },
    {
      "cell_type": "markdown",
      "metadata": {
        "id": "M665fmixQlf4",
        "colab_type": "text"
      },
      "source": [
        "Now, let's create a map with the entire dataset we have of Toronto Boroughs"
      ]
    },
    {
      "cell_type": "code",
      "metadata": {
        "id": "6wUyMdC-zvN5",
        "colab_type": "code",
        "colab": {
          "base_uri": "https://localhost:8080/",
          "height": 505
        },
        "outputId": "6b5fb3cd-4355-4535-ec42-4dbb7e230ad5"
      },
      "source": [
        "# create map of Toronto using latitude and longitude values\n",
        "map_newyork = folium.Map(location=[43.729097, -79.369131], zoom_start=11)\n",
        "\n",
        "# add markers to map\n",
        "for lat, lng, borough, neighborhood in zip(df_toronto_clean['Latitude'], df_toronto_clean['Longitude'], df_toronto_clean['Borough'], df_toronto_clean['Neighbourhood']):\n",
        "    label = '{}, {}'.format(neighborhood, borough)\n",
        "    label = folium.Popup(label, parse_html=True)\n",
        "    folium.CircleMarker(\n",
        "        [lat, lng],\n",
        "        radius=5,\n",
        "        popup=label,\n",
        "        color='blue',\n",
        "        fill=True,\n",
        "        fill_color='#3186cc',\n",
        "        fill_opacity=0.7,\n",
        "        parse_html=False).add_to(map_newyork)  \n",
        "    \n",
        "map_newyork"
      ],
      "execution_count": 21,
      "outputs": [
        {
          "output_type": "execute_result",
          "data": {
            "text/html": [
              "<div style=\"width:100%;\"><div style=\"position:relative;width:100%;height:0;padding-bottom:60%;\"><iframe src=\"data:text/html;charset=utf-8;base64,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\" style=\"position:absolute;width:100%;height:100%;left:0;top:0;border:none !important;\" allowfullscreen webkitallowfullscreen mozallowfullscreen></iframe></div></div>"
            ],
            "text/plain": [
              "<folium.folium.Map at 0x7f5343f9eba8>"
            ]
          },
          "metadata": {
            "tags": []
          },
          "execution_count": 21
        }
      ]
    },
    {
      "cell_type": "markdown",
      "metadata": {
        "id": "Z2qMUKDI1x4K",
        "colab_type": "text"
      },
      "source": [
        "Now we have to select a Boroughs to analyze, in this case, we will analyze all Boroughs with the name of Downtown Toronto"
      ]
    },
    {
      "cell_type": "code",
      "metadata": {
        "id": "EvenKn4g1yG4",
        "colab_type": "code",
        "colab": {}
      },
      "source": [
        "df_analysis = df_toronto_clean[df_toronto_clean['Borough'] == 'Downtown Toronto']"
      ],
      "execution_count": 0,
      "outputs": []
    },
    {
      "cell_type": "markdown",
      "metadata": {
        "id": "AUgw7ApUQ5WP",
        "colab_type": "text"
      },
      "source": [
        "Set-up our Foursquare API login data"
      ]
    },
    {
      "cell_type": "code",
      "metadata": {
        "id": "Pw5REZSc2pYv",
        "colab_type": "code",
        "colab": {}
      },
      "source": [
        "CLIENT_ID = '<CLIENT_ID>'\n",
        "CLIENT_SECRET = '<CLIENT_SECRET>'\n",
        "VERSION = '20180605'"
      ],
      "execution_count": 0,
      "outputs": []
    },
    {
      "cell_type": "markdown",
      "metadata": {
        "id": "aVfO9RHHRCiX",
        "colab_type": "text"
      },
      "source": [
        "Use that function to get from the API, information about each selected Neighbourhood"
      ]
    },
    {
      "cell_type": "code",
      "metadata": {
        "id": "YMxL1caL1yOg",
        "colab_type": "code",
        "colab": {}
      },
      "source": [
        "def getNearbyVenues(names, latitudes, longitudes, radius=1000, LIMIT=200):\n",
        "\n",
        "    # Get the number of places to be evaluated\n",
        "    max_count = len(names)\n",
        "    # instantiate the progress bar\n",
        "    f = IntProgress(min=0, max=max_count) \n",
        "    # Display the progress bar\n",
        "    display(f)\n",
        "    # Start counter\n",
        "    count = 0  \n",
        "    \n",
        "    venues_list=[]\n",
        "    for name, lat, lng in zip(names, latitudes, longitudes):\n",
        "        print(name)\n",
        "            \n",
        "        # create the API request URL\n",
        "        url = 'https://api.foursquare.com/v2/venues/explore?&client_id={}&client_secret={}&v={}&ll={},{}&radius={}&limit={}'.format(\n",
        "            CLIENT_ID, \n",
        "            CLIENT_SECRET, \n",
        "            VERSION, \n",
        "            lat, \n",
        "            lng, \n",
        "            radius, \n",
        "            LIMIT)\n",
        "            \n",
        "        # make the GET request\n",
        "        results = requests.get(url).json()[\"response\"]['groups'][0]['items']\n",
        "        \n",
        "        # return only relevant information for each nearby venue\n",
        "        venues_list.append([(\n",
        "            name, \n",
        "            lat, \n",
        "            lng, \n",
        "            v['venue']['name'], \n",
        "            v['venue']['location']['lat'], \n",
        "            v['venue']['location']['lng'],  \n",
        "            v['venue']['categories'][0]['name']) for v in results])\n",
        "        \n",
        "        f.value += 1 # signal to increment the progress bar\n",
        "        count += 1\n",
        "\n",
        "\n",
        "    nearby_venues = pd.DataFrame([item for venue_list in venues_list for item in venue_list])\n",
        "    nearby_venues.columns = ['Neighborhood', \n",
        "                  'Neighborhood Latitude', \n",
        "                  'Neighborhood Longitude', \n",
        "                  'Venue', \n",
        "                  'Venue Latitude', \n",
        "                  'Venue Longitude', \n",
        "                  'Venue Category']\n",
        "\n",
        "\n",
        "    return(nearby_venues)"
      ],
      "execution_count": 0,
      "outputs": []
    },
    {
      "cell_type": "code",
      "metadata": {
        "id": "dUbkrnX61yRn",
        "colab_type": "code",
        "colab": {
          "base_uri": "https://localhost:8080/",
          "height": 392,
          "referenced_widgets": [
            "19bf07e032c44c5289f777df03583515",
            "fd9dd865efba479ebfc34590968a504f",
            "d5471765043844f7b3bf606d72957523"
          ]
        },
        "outputId": "79caebc4-d84c-4221-a4d0-52a742e81a2f"
      },
      "source": [
        "downtown_toronto_venues = getNearbyVenues(df_analysis['Neighbourhood'], df_analysis['Latitude'], df_analysis['Longitude'])"
      ],
      "execution_count": 25,
      "outputs": [
        {
          "output_type": "display_data",
          "data": {
            "application/vnd.jupyter.widget-view+json": {
              "model_id": "19bf07e032c44c5289f777df03583515",
              "version_minor": 0,
              "version_major": 2
            },
            "text/plain": [
              "IntProgress(value=0, max=19)"
            ]
          },
          "metadata": {
            "tags": []
          }
        },
        {
          "output_type": "stream",
          "text": [
            "Rosedale\n",
            "Cabbagetown, St. James Town\n",
            "Church and Wellesley\n",
            "Harbourfront\n",
            "Garden District, Ryerson\n",
            "St. James Town\n",
            "Berczy Park\n",
            "Central Bay Street\n",
            "Adelaide, King, Richmond\n",
            "Harbourfront East, Union Station, Toronto Islands\n",
            "Toronto Dominion Centre, Design Exchange\n",
            "Commerce Court, Victoria Hotel\n",
            "University of Toronto, Harbord\n",
            "Grange Park, Kensington Market, Chinatown\n",
            "Bathurst Quay, CN Tower, Island airport, Railway Lands, King and Spadina, South Niagara, Harbourfront West\n",
            "Stn A PO Boxes 25 The Esplanade\n",
            "First Canadian Place, Underground city\n",
            "Christie\n",
            "Queen's Park\n"
          ],
          "name": "stdout"
        }
      ]
    },
    {
      "cell_type": "markdown",
      "metadata": {
        "id": "YUBpPUq1RO3m",
        "colab_type": "text"
      },
      "source": [
        "Now we can see the number of Venue categories we got from all analyzed neighbourhoods"
      ]
    },
    {
      "cell_type": "code",
      "metadata": {
        "id": "c-fg9jjS3G7B",
        "colab_type": "code",
        "colab": {
          "base_uri": "https://localhost:8080/",
          "height": 34
        },
        "outputId": "53324c2b-33d2-4f3b-ad64-7e11c0545aae"
      },
      "source": [
        "downtown_toronto_venues.shape"
      ],
      "execution_count": 26,
      "outputs": [
        {
          "output_type": "execute_result",
          "data": {
            "text/plain": [
              "(1584, 7)"
            ]
          },
          "metadata": {
            "tags": []
          },
          "execution_count": 26
        }
      ]
    },
    {
      "cell_type": "code",
      "metadata": {
        "id": "nShm3VMW5dMf",
        "colab_type": "code",
        "colab": {
          "base_uri": "https://localhost:8080/",
          "height": 34
        },
        "outputId": "7dc8c4c1-1961-4ad7-8c5b-c45966119414"
      },
      "source": [
        "print(f'There are {len(downtown_toronto_venues[\"Venue Category\"].unique())} unique categories')"
      ],
      "execution_count": 27,
      "outputs": [
        {
          "output_type": "stream",
          "text": [
            "There are 208 unique categories\n"
          ],
          "name": "stdout"
        }
      ]
    },
    {
      "cell_type": "markdown",
      "metadata": {
        "id": "GtWDPjobRa31",
        "colab_type": "text"
      },
      "source": [
        "Now we will get a list of unique categories, this will help us to create a one-hot encoding for each neighbourhood"
      ]
    },
    {
      "cell_type": "code",
      "metadata": {
        "id": "zJp835755or-",
        "colab_type": "code",
        "colab": {}
      },
      "source": [
        "list_unique_categories = list(downtown_toronto_venues['Venue Category'].unique())"
      ],
      "execution_count": 0,
      "outputs": []
    },
    {
      "cell_type": "markdown",
      "metadata": {
        "id": "gfKlVOYvRpZO",
        "colab_type": "text"
      },
      "source": [
        "The cell below will get each unique Neighbourhood and create a `row_numeric_data` that has a quantity information for each venue (listed on `list_unique_categories`) and calculate in the row_normalized_data the proportion of each unique venue for each neighbourhood. After getting all these venue normalized data, we will create a row for each neighbourhood that is an dictionary where the keys are the columns (neighbourhood name and venue types) and values the values for each column."
      ]
    },
    {
      "cell_type": "code",
      "metadata": {
        "id": "M7eq9DRj7CqU",
        "colab_type": "code",
        "colab": {}
      },
      "source": [
        "row_list = []\n",
        "for Neighborhood in downtown_toronto_venues['Neighborhood'].unique():\n",
        "  row_numeric_data = []\n",
        "  for category in list_unique_categories:\n",
        "    vanue_category_data = downtown_toronto_venues[downtown_toronto_venues['Neighborhood'] == Neighborhood]['Venue Category']\n",
        "    row_numeric_data.append(vanue_category_data[vanue_category_data == category].shape[0])\n",
        "    if sum(row_numeric_data) > 0:\n",
        "      row_normalized_data = [numberCategory/sum(row_numeric_data) for numberCategory in row_numeric_data]\n",
        "    else:\n",
        "      row_normalized_data = row_numeric_data\n",
        "  row_list.append(dict(zip(['Neighborhood']+list_unique_categories, [Neighborhood]+row_normalized_data)))"
      ],
      "execution_count": 0,
      "outputs": []
    },
    {
      "cell_type": "markdown",
      "metadata": {
        "id": "fBW3bvNmSmRm",
        "colab_type": "text"
      },
      "source": [
        "Now, with that list of dictionaries, we will create a DataFrame containing all the calculated data."
      ]
    },
    {
      "cell_type": "code",
      "metadata": {
        "id": "ca198NVs7aXm",
        "colab_type": "code",
        "colab": {}
      },
      "source": [
        "df_venue_category_data = pd.DataFrame(row_list)"
      ],
      "execution_count": 0,
      "outputs": []
    },
    {
      "cell_type": "markdown",
      "metadata": {
        "id": "mSgNXp5bSuhr",
        "colab_type": "text"
      },
      "source": [
        "Let's start to make the data science analysis, firstly importing the Scikirt-Learn Kmeans module."
      ]
    },
    {
      "cell_type": "code",
      "metadata": {
        "id": "zvKD1tSDASZg",
        "colab_type": "code",
        "colab": {}
      },
      "source": [
        "from sklearn.cluster import KMeans"
      ],
      "execution_count": 0,
      "outputs": []
    },
    {
      "cell_type": "markdown",
      "metadata": {
        "id": "Mu1t9sIzS7FV",
        "colab_type": "text"
      },
      "source": [
        "Then we will make an analysis with 8 clusters of all data we got from the neighbourhoods venues"
      ]
    },
    {
      "cell_type": "code",
      "metadata": {
        "id": "NafY9bNyBAhk",
        "colab_type": "code",
        "colab": {}
      },
      "source": [
        "kmeans = KMeans(n_clusters=8, random_state=0).fit(df_venue_category_data.drop(columns=['Neighborhood']))"
      ],
      "execution_count": 0,
      "outputs": []
    },
    {
      "cell_type": "markdown",
      "metadata": {
        "id": "0QKWGZilTCKf",
        "colab_type": "text"
      },
      "source": [
        "Below, we can see the label for each neighbourhood"
      ]
    },
    {
      "cell_type": "code",
      "metadata": {
        "id": "P16JFRkVCUxX",
        "colab_type": "code",
        "colab": {
          "base_uri": "https://localhost:8080/",
          "height": 51
        },
        "outputId": "b79f83a8-d083-47ec-aa73-3ad0b53b1e97"
      },
      "source": [
        "kmeans.labels_"
      ],
      "execution_count": 33,
      "outputs": [
        {
          "output_type": "execute_result",
          "data": {
            "text/plain": [
              "array([4, 7, 5, 5, 5, 0, 0, 5, 0, 0, 0, 0, 1, 1, 2, 0, 0, 6, 3],\n",
              "      dtype=int32)"
            ]
          },
          "metadata": {
            "tags": []
          },
          "execution_count": 33
        }
      ]
    },
    {
      "cell_type": "markdown",
      "metadata": {
        "id": "PNM3PBIjTGBk",
        "colab_type": "text"
      },
      "source": [
        "Now let's copy the DataFrame that has information of each neighbourhood, it's important to use the `.copy` method because this will avoid us to only refer to that dataframe, using copy we will create a new DataFrame called `df_result_cluster` that have the exact same data than df_analysis."
      ]
    },
    {
      "cell_type": "code",
      "metadata": {
        "id": "7auBbsymHTtn",
        "colab_type": "code",
        "colab": {}
      },
      "source": [
        "df_result_cluster = df_analysis.copy()"
      ],
      "execution_count": 0,
      "outputs": []
    },
    {
      "cell_type": "markdown",
      "metadata": {
        "id": "L7Ed9FLNTcdw",
        "colab_type": "text"
      },
      "source": [
        "Now, we will assign the cluster label for each neighbourhood on our analyzed dataset."
      ]
    },
    {
      "cell_type": "code",
      "metadata": {
        "id": "1fLUO4KmObql",
        "colab_type": "code",
        "colab": {}
      },
      "source": [
        "df_result_cluster['Cluster'] = kmeans.labels_"
      ],
      "execution_count": 0,
      "outputs": []
    },
    {
      "cell_type": "markdown",
      "metadata": {
        "id": "pa0gDJjBTi2l",
        "colab_type": "text"
      },
      "source": [
        "Import some modules to use on color selection"
      ]
    },
    {
      "cell_type": "code",
      "metadata": {
        "id": "dwksMr3bOW80",
        "colab_type": "code",
        "colab": {}
      },
      "source": [
        "import matplotlib.cm as cm\n",
        "import matplotlib.colors as colors"
      ],
      "execution_count": 0,
      "outputs": []
    },
    {
      "cell_type": "markdown",
      "metadata": {
        "id": "-EZRLDHWTnaN",
        "colab_type": "text"
      },
      "source": [
        "Finally let's create a map with the clusters we got."
      ]
    },
    {
      "cell_type": "code",
      "metadata": {
        "id": "J57OkWNqDFIE",
        "colab_type": "code",
        "colab": {
          "base_uri": "https://localhost:8080/",
          "height": 505
        },
        "outputId": "53560a70-eb2e-4080-be82-481170c118e6"
      },
      "source": [
        "# create map\n",
        "map_clusters = folium.Map(location=[43.650097, -79.369131], zoom_start=12)\n",
        "\n",
        "# set color scheme for the clusters\n",
        "x = np.arange(8)\n",
        "ys = [i + x + (i*x)**2 for i in range(8)]\n",
        "colors_array = cm.rainbow(np.linspace(0, 1, len(ys)))\n",
        "rainbow = [colors.rgb2hex(i) for i in colors_array]\n",
        "\n",
        "# add markers to the map\n",
        "markers_colors = []\n",
        "for lat, lon, poi, cluster in zip(df_result_cluster['Latitude'], \n",
        "                                  df_result_cluster['Longitude'], \n",
        "                                  df_result_cluster['Neighbourhood'],\n",
        "                                  df_result_cluster['Cluster']):\n",
        "    label = folium.Popup(str(poi) + ' Cluster ' + str(cluster), parse_html=True)\n",
        "    folium.CircleMarker(\n",
        "        [lat, lon],\n",
        "        radius=5,\n",
        "        popup=label,\n",
        "        color=rainbow[cluster-1],\n",
        "        fill=True,\n",
        "        fill_color=rainbow[cluster-1],\n",
        "        fill_opacity=0.7).add_to(map_clusters)\n",
        "       \n",
        "map_clusters"
      ],
      "execution_count": 37,
      "outputs": [
        {
          "output_type": "execute_result",
          "data": {
            "text/html": [
              "<div style=\"width:100%;\"><div style=\"position:relative;width:100%;height:0;padding-bottom:60%;\"><iframe src=\"data:text/html;charset=utf-8;base64,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\" style=\"position:absolute;width:100%;height:100%;left:0;top:0;border:none !important;\" allowfullscreen webkitallowfullscreen mozallowfullscreen></iframe></div></div>"
            ],
            "text/plain": [
              "<folium.folium.Map at 0x7f532eef09e8>"
            ]
          },
          "metadata": {
            "tags": []
          },
          "execution_count": 37
        }
      ]
    },
    {
      "cell_type": "markdown",
      "metadata": {
        "id": "U0FU9etATtMl",
        "colab_type": "text"
      },
      "source": [
        "I think this was a very interesting result because show a similar neighbourhood pattern in areas that are close. The city Center of Toronto looks to have similar neighbourhoods, while more distant neighbourhoods can have different characteristics. I think this was expected as closest areas may have similarities."
      ]
    },
    {
      "cell_type": "code",
      "metadata": {
        "id": "4jnbS4PqOK4v",
        "colab_type": "code",
        "colab": {}
      },
      "source": [
        ""
      ],
      "execution_count": 0,
      "outputs": []
    }
  ]
}